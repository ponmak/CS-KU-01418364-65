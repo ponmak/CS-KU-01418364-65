{
 "cells": [
  {
   "cell_type": "code",
   "execution_count": 1,
   "metadata": {},
   "outputs": [
    {
     "name": "stdout",
     "output_type": "stream",
     "text": [
      "Loop-based computation took: 2.0657 seconds\n",
      "Vectorized computation took: 0.0185 seconds\n",
      "NumPy is 111.90 times faster than the loop-based computation.\n"
     ]
    }
   ],
   "source": [
    "import numpy as np\n",
    "import time\n",
    "\n",
    "\n",
    "# Function to calculate element-wise square using loops\n",
    "def square_with_loops(data):\n",
    "    result = []\n",
    "    for value in data:\n",
    "        result.append(value ** 2)\n",
    "    return result\n",
    "\n",
    "\n",
    "# Function to calculate element-wise square using NumPy (vectorized)\n",
    "def square_with_numpy(data):\n",
    "    return np.square(data)\n",
    "\n",
    "\n",
    "# Generate a large dataset\n",
    "data_size = 20_000_000\n",
    "data = np.arange(data_size)\n",
    "\n",
    "\n",
    "# Measure performance of sequential (loop-based) computation\n",
    "start_time = time.time()\n",
    "result_loops = square_with_loops(data)\n",
    "loop_duration = time.time() - start_time\n",
    "\n",
    "\n",
    "# Measure performance of vectorized computation using NumPy\n",
    "start_time = time.time()\n",
    "result_numpy = square_with_numpy(data)\n",
    "numpy_duration = time.time() - start_time\n",
    "\n",
    "\n",
    "# Display results\n",
    "print(f\"Loop-based computation took: {loop_duration:.4f} seconds\")\n",
    "print(f\"Vectorized computation took: {numpy_duration:.4f} seconds\")\n",
    "print(f\"NumPy is {loop_duration / numpy_duration:.2f} times faster than the loop-based computation.\")\n"
   ]
  },
  {
   "cell_type": "code",
   "execution_count": null,
   "metadata": {},
   "outputs": [],
   "source": []
  }
 ],
 "metadata": {
  "kernelspec": {
   "display_name": "dl_env_5427",
   "language": "python",
   "name": "python3"
  },
  "language_info": {
   "codemirror_mode": {
    "name": "ipython",
    "version": 3
   },
   "file_extension": ".py",
   "mimetype": "text/x-python",
   "name": "python",
   "nbconvert_exporter": "python",
   "pygments_lexer": "ipython3",
   "version": "3.10.15"
  }
 },
 "nbformat": 4,
 "nbformat_minor": 2
}
