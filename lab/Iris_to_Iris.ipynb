{
  "cells": [
    {
      "cell_type": "markdown",
      "metadata": {
        "id": "9QUhMmXM3eYU"
      },
      "source": [
        "# Disclaimer : Model อาจจะเบิ้มคือลือเกินไป ควรใช้ colab เพราะคอมเจ้าของยังกากเลย"
      ]
    },
    {
      "cell_type": "markdown",
      "metadata": {
        "id": "djnqy5VJ3eYW"
      },
      "source": [
        "# Ep:02 Iris Flower to Iris"
      ]
    },
    {
      "cell_type": "markdown",
      "metadata": {
        "id": "tDeTjPKY3eYX"
      },
      "source": [
        "### ยินดีตอนรับ commander อีกครั้ง\n",
        "ในซ่อมแซมครั้งนี้เป็นเรื่องของระบบดวงตาของ doll <br>\n",
        "เพื่อกูคืนระบบดวงตาให้กับ doll ให้เร็วที่สุด <br>\n",
        "\n",
        "เราต้องใช้ Convolutional Neural Network (CNN) ในการทำนายรูปภาพดอก iris ว่าเป็น iris ชนิดใด<br>\n",
        "เราจะใช้ข้อมูล iris รูปสี 3 ชนิด คือ iris-setosa, iris-versicolor, iris-virginica\n",
        "\n",
        "จำนวน 421 รูปภาพ ขนาด 256x256x3 pixel"
      ]
    },
    {
      "cell_type": "code",
      "execution_count": null,
      "metadata": {
        "colab": {
          "base_uri": "https://localhost:8080/"
        },
        "id": "CvxSgF1G3eYZ",
        "outputId": "1c680747-1b41-4dd4-bd2e-c65e86ebdb3c"
      },
      "outputs": [
        {
          "output_type": "stream",
          "name": "stdout",
          "text": [
            "Requirement already satisfied: kaggle in /usr/local/lib/python3.11/dist-packages (1.6.17)\n",
            "Requirement already satisfied: six>=1.10 in /usr/local/lib/python3.11/dist-packages (from kaggle) (1.17.0)\n",
            "Requirement already satisfied: certifi>=2023.7.22 in /usr/local/lib/python3.11/dist-packages (from kaggle) (2024.12.14)\n",
            "Requirement already satisfied: python-dateutil in /usr/local/lib/python3.11/dist-packages (from kaggle) (2.8.2)\n",
            "Requirement already satisfied: requests in /usr/local/lib/python3.11/dist-packages (from kaggle) (2.32.3)\n",
            "Requirement already satisfied: tqdm in /usr/local/lib/python3.11/dist-packages (from kaggle) (4.67.1)\n",
            "Requirement already satisfied: python-slugify in /usr/local/lib/python3.11/dist-packages (from kaggle) (8.0.4)\n",
            "Requirement already satisfied: urllib3 in /usr/local/lib/python3.11/dist-packages (from kaggle) (2.3.0)\n",
            "Requirement already satisfied: bleach in /usr/local/lib/python3.11/dist-packages (from kaggle) (6.2.0)\n",
            "Requirement already satisfied: webencodings in /usr/local/lib/python3.11/dist-packages (from bleach->kaggle) (0.5.1)\n",
            "Requirement already satisfied: text-unidecode>=1.3 in /usr/local/lib/python3.11/dist-packages (from python-slugify->kaggle) (1.3)\n",
            "Requirement already satisfied: charset-normalizer<4,>=2 in /usr/local/lib/python3.11/dist-packages (from requests->kaggle) (3.4.1)\n",
            "Requirement already satisfied: idna<4,>=2.5 in /usr/local/lib/python3.11/dist-packages (from requests->kaggle) (3.10)\n",
            "Dataset URL: https://www.kaggle.com/datasets/jeffheaton/iris-computer-vision\n",
            "License(s): GNU Lesser General Public License 3.0\n",
            "Downloading iris-computer-vision.zip to /content\n",
            " 94% 5.00M/5.33M [00:00<00:00, 35.7MB/s]\n",
            "100% 5.33M/5.33M [00:00<00:00, 37.3MB/s]\n"
          ]
        }
      ],
      "source": [
        "#!/bin/bash\n",
        "%pip install kaggle\n",
        "!kaggle datasets download jeffheaton/iris-computer-vision"
      ]
    },
    {
      "cell_type": "markdown",
      "metadata": {
        "id": "-4Y90I6Y3eYa"
      },
      "source": [
        "Unzip เองนะครับ"
      ]
    },
    {
      "cell_type": "code",
      "source": [
        "#!/bin/bash\n",
        "!mkdir /content/iris\n",
        "!unzip /content/iris-computer-vision.zip -d /content/iris"
      ],
      "metadata": {
        "colab": {
          "base_uri": "https://localhost:8080/"
        },
        "id": "D3hY4AUi3hHf",
        "outputId": "c02d97bf-1498-43bc-e30f-98981672d599"
      },
      "execution_count": null,
      "outputs": [
        {
          "output_type": "stream",
          "name": "stdout",
          "text": [
            "Archive:  /content/iris-computer-vision.zip\n",
            "  inflating: /content/iris/iris-setosa/iris-01ab65973fd487a6cee4c5af1551c42b264eec5abab46bffd7c307ffef647e11.jpg  \n",
            "  inflating: /content/iris/iris-setosa/iris-0797945218a97d6e5251b4758a2ba1b418cbd52ce4ef46a3239e4b939bd9807b.jpg  \n",
            "  inflating: /content/iris/iris-setosa/iris-0c826b6f4648edf507e0cafdab53712bb6fd1f04dab453cee8db774a728dd640.jpg  \n",
            "  inflating: /content/iris/iris-setosa/iris-0ff5ba898a0ec179a25ca217af45374fdd06d606bb85fc29294291facad1776a.jpg  \n",
            "  inflating: /content/iris/iris-setosa/iris-1289c57b571e8e98e4feb3e18a890130adc145b971b7e208a6ce5bad945b4a5a.jpg  \n",
            "  inflating: /content/iris/iris-setosa/iris-16f7515e1d6aa6d7dd3af4bca38c8065bfab9d426c5fd75b3c4bc51d737fb9d0.jpg  \n",
            "  inflating: /content/iris/iris-setosa/iris-1e80d2d6f3e9cf96c1cb33f3e47f3e5a3f4a6eb26fa3ab479d462e1ac837ba66.jpg  \n",
            "  inflating: /content/iris/iris-setosa/iris-1f941001f508ff1bd492457a90da64e52c461bfd64587a3cf7c6bf1bcb35adab.jpg  \n",
            "  inflating: /content/iris/iris-setosa/iris-20f5f654ae5fbcc405b465ce257c187f81eb5fc070531f940be42f1424c3fb44.jpg  \n",
            "  inflating: /content/iris/iris-setosa/iris-21b2ccc2a23b9f878abd0817939fe4b198e2e43fa687233c62b0d67a51ee5592.jpg  \n",
            "  inflating: /content/iris/iris-setosa/iris-29c3861c8962dd41a2b20d6a13299c35e892c0b59487fe3e5bcc513645d860ab.jpg  \n",
            "  inflating: /content/iris/iris-setosa/iris-2a17ce3d9678b046d5f42db47589f7eacfb916ef051293e35f2dcb1c76741069.jpg  \n",
            "  inflating: /content/iris/iris-setosa/iris-2abfd90b157f1bc4170c24cc8c258d776a58926f0efca787961210f60bce76be.jpg  \n",
            "  inflating: /content/iris/iris-setosa/iris-2c5b373c2a5fd214092eb578c75eb5dc84334e5f11a02f4fa23d5d316b18f770.jpg  \n",
            "  inflating: /content/iris/iris-setosa/iris-2d99bd179332761c8ac805fbf27141b3fc52ef9fe4f8947f0d61cf303488cb7d.jpg  \n",
            "  inflating: /content/iris/iris-setosa/iris-332953f4d6a355ca189e2508164b24360fc69f83304e7384ca2203ddcb7c73b5.jpg  \n",
            "  inflating: /content/iris/iris-setosa/iris-3d65612a9d86928706ed2170fc1a70fccebde222cb6a8be16ddbac7fc4f24e8c.jpg  \n",
            "  inflating: /content/iris/iris-setosa/iris-40d5d5b3aacd405930c5e03689455ec3001e6601daad468e28b3e65126b404ab.jpg  \n",
            "  inflating: /content/iris/iris-setosa/iris-4b4ae04b89e410fe0c154f460b898909494b6ba7580806fd1f0c1fb1aac21537.jpg  \n",
            "  inflating: /content/iris/iris-setosa/iris-4d9965e24b023e907ce465c440360a2934cac685c55d8b3779cc1322a549f9f9.jpg  \n",
            "  inflating: /content/iris/iris-setosa/iris-5638409c7854fc47775db47397a1dd6cdc1c9ec08666412d9733bbc18685af67.jpg  \n",
            "  inflating: /content/iris/iris-setosa/iris-5b85818d7034982b27efa099528f0ee301dde9af368f7ffab1e606e0db8b7afd.jpg  \n",
            "  inflating: /content/iris/iris-setosa/iris-5bebf00fe3aff121b5c50cab4ac683a7d0cab2201a896eb4222f348a659aabbf.jpg  \n",
            "  inflating: /content/iris/iris-setosa/iris-5f4e8fffde2404cc30be275999fddeec64f8a711ab73f7fa4eb7667c8475c57b.jpg  \n",
            "  inflating: /content/iris/iris-setosa/iris-63a8324f33d5eed6bb5a0056f035b88aa27f9b28c23dd2e68fcf46ca7e631d8d.jpg  \n",
            "  inflating: /content/iris/iris-setosa/iris-6815050b6117cf2e1fd60b1c33bfbb94837b8e173ff869f625757da4a04965c9.jpg  \n",
            "  inflating: /content/iris/iris-setosa/iris-70069edd7ab0b829b84bb6d4465b2ca4038e129bb19d0d3f2ba671adc03398cc.jpg  \n",
            "  inflating: /content/iris/iris-setosa/iris-706c80d1f831870cf48714c7859624792bd9b9c1fe9e7e6de9b06db7819798b4.jpg  \n",
            "  inflating: /content/iris/iris-setosa/iris-75d861d389e8114773cba23a016302bb5d13cc1ff383f331ce87dbe79be86001.jpg  \n",
            "  inflating: /content/iris/iris-setosa/iris-765579548dc0178b5a87d96f63a57886b85f395a4ae3ee459988d924174225c9.jpg  \n",
            "  inflating: /content/iris/iris-setosa/iris-793fe85ddd6a97e9c9f184ed20d1d216e48bf85aa71633eff6d27073e0825d54.jpg  \n",
            "  inflating: /content/iris/iris-setosa/iris-7b181d378efb838ebe77df6b8d93ca936b575c2a230606d4b330cbb203e3e32f.jpg  \n",
            "  inflating: /content/iris/iris-setosa/iris-7e567d477139f28cbb330a410ae7c8566a497fb6ce2999447ed802ac174340b6.jpg  \n",
            "  inflating: /content/iris/iris-setosa/iris-7e9947110916b594c050f014171bf50d20d9885bc19b62b73b048e9427b97fa5.jpg  \n",
            "  inflating: /content/iris/iris-setosa/iris-819130af42335d4bb75bebb0d2ee2e353a89a3d518a1d2ce69842859c5668c5a.jpg  \n",
            "  inflating: /content/iris/iris-setosa/iris-8305dd2a080e7fe941ea36f3b3ec0aa1a195ad5d957831cf4088edccea9465e2.jpg  \n",
            "  inflating: /content/iris/iris-setosa/iris-83f433381b755101b9fc9fbc9743e35fbb8a1a10911c48f53b11e965a1cbf101.jpg  \n",
            "  inflating: /content/iris/iris-setosa/iris-8865cddb5bd6b16f8e64ac2d0417049b6a9362de67f44afa371e127ed215dfba.jpg  \n",
            "  inflating: /content/iris/iris-setosa/iris-8c216e1acff39be76d6133e1f549d138bf63359fa0da01417e681842210ea262.jpg  \n",
            "  inflating: /content/iris/iris-setosa/iris-911f2ca0ab6dd576afbcd503b12287d3050fa4792c6f687c1275d3e58acd6e7c.jpg  \n",
            "  inflating: /content/iris/iris-setosa/iris-9675d304f0ef47c3a07c34becdb800047c2482a58f4a82497168f14839f022e1.jpg  \n",
            "  inflating: /content/iris/iris-setosa/iris-9cd498593dc75080241d13dfd4aadcd0860bd91c91a31a21b5dc052faea2c32c.jpg  \n",
            "  inflating: /content/iris/iris-setosa/iris-9e3208f4f9fedc9598ddf26f77925a1e8df9d7865a4d6e5b4f74075d558d6a5e.jpg  \n",
            "  inflating: /content/iris/iris-setosa/iris-9fb8d691550315506ae08233406e8f1a4afed411ea0b0ac37e4b9cdb9c42e1ec.jpg  \n",
            "  inflating: /content/iris/iris-setosa/iris-a2df1c4f9250c5f9d0acc141f61b65f9e10701da308fbb8b408d50070d2856f6.jpg  \n",
            "  inflating: /content/iris/iris-setosa/iris-a6b85bf1f3d18bbb6470440592834c2c7f081b490836392cf5f01636ee7cf658.jpg  \n",
            "  inflating: /content/iris/iris-setosa/iris-a8de5f0de4236c2b836e59718e837b7307c88bdabe456a4f757eef560d3e0fb6.jpg  \n",
            "  inflating: /content/iris/iris-setosa/iris-b23baa5fca9761ca32c2ced0f96d2ff1e298226dc8b5ebb9a4dc0e9248479e53.jpg  \n",
            "  inflating: /content/iris/iris-setosa/iris-b281bebf78912e7891bf731da98ff3d97e525fc19f5d5e7c21badf536e257ef6.jpg  \n",
            "  inflating: /content/iris/iris-setosa/iris-bfcf79b3b527eb64b78f9a068a1000042336e532f0f44e68f818dd13ab492a76.jpg  \n",
            "  inflating: /content/iris/iris-setosa/iris-c50d481f9fa3666c2c3808806c7c2945623f9d9a6a1d93a17133c4cb1560c41c.jpg  \n",
            "  inflating: /content/iris/iris-setosa/iris-cd64ccba86aa7aada7c1d37ebc4eb7100255577c2569e017b5ec321ff44b12d8.jpg  \n",
            "  inflating: /content/iris/iris-setosa/iris-d9aae37a8fa6afdef2af170c266a597925eea935f4d070e979d565713ea62642.jpg  \n",
            "  inflating: /content/iris/iris-setosa/iris-dadbf929ef14ff971a4f0c41694b41e2a525d64bccfca225b0d8f48c73e2514a.jpg  \n",
            "  inflating: /content/iris/iris-setosa/iris-dc68b4e9bfec2480995e39087005812b394e2c504c806c23fe3905d812c08624.jpg  \n",
            "  inflating: /content/iris/iris-setosa/iris-dda1a1e2f89f7611ffdb45b1cece8716f23ca042fc0c590557f4383eb7fa4a88.jpg  \n",
            "  inflating: /content/iris/iris-setosa/iris-debe85f1f2d7760415cd12f128bb7821e0726e306bd22de4fff422b20e2c165b.jpg  \n",
            "  inflating: /content/iris/iris-setosa/iris-e3d1a560d25cf573d2cbbf2fe6cd231819e998109a5cf1788d59fbb9859b3be2.jpg  \n",
            "  inflating: /content/iris/iris-setosa/iris-e437a7c7ad2bbac87fef3666b40c4de1251b9c5f595183eda90a8d9b1ef5b188.jpg  \n",
            "  inflating: /content/iris/iris-setosa/iris-e45d869cb9d443b39d59e35c2f47870f5a2a335fce53f0c8a5bc615b9c53c429.jpg  \n",
            "  inflating: /content/iris/iris-setosa/iris-e49a8f19ce5b5db6bb9fc41f9f13ec42431ec2673f00aba83645b9fdb7b79cc9.jpg  \n",
            "  inflating: /content/iris/iris-setosa/iris-e4f3d38b7d735ccb2e76abece95b317fc592fa2f790852e578b511f311a0fff3.jpg  \n",
            "  inflating: /content/iris/iris-setosa/iris-ea0c9679108abba869e7a84d20bf01284491124a77f85e076400ea3fff83d673.jpg  \n",
            "  inflating: /content/iris/iris-setosa/iris-f31c83878b37242ce9306e3bc59c557786e8d496841cae4a91638efd47d66ad8.jpg  \n",
            "  inflating: /content/iris/iris-setosa/iris-f340f1f09cf8a0f83b28eb8e945317bb2e11502575275bb27ee8163ee28d2799.jpg  \n",
            "  inflating: /content/iris/iris-setosa/iris-fac5f8c23d8c50658db0f4e4a074c2f7771917eb52cbdf6eda50c12889510cf4.jpg  \n",
            "  inflating: /content/iris/iris-setosa/iris-fdd46bc8cdd760707811fe958f12f7a3aa7ccc51609d9ec710c074af0bf9fb42.jpg  \n",
            "  inflating: /content/iris/iris-versicolour/iris-009322547cb81cbb4dbc63c298304a2df8ea617191651d4cbd50b7a5bbba8a6a.jpg  \n",
            "  inflating: /content/iris/iris-versicolour/iris-0191be65e3e7ce58d43d600ff66adf0230442f58b33ca96aadf632b7f87292a4.jpg  \n",
            "  inflating: /content/iris/iris-versicolour/iris-01cdd55ca6402713465841abddcce79a2e906e12edf95afb77c16bde4b4907dc.jpg  \n",
            "  inflating: /content/iris/iris-versicolour/iris-02868b71ddd9b33ab795ac41609ea7b20a6e94f2543fad5d7fa11241d61feacf.jpg  \n",
            "  inflating: /content/iris/iris-versicolour/iris-0337d20a3b7273aa0ddaa7d6afb57a37a759b060e4401871db3cefaa6adc068d.jpg  \n",
            "  inflating: /content/iris/iris-versicolour/iris-0415d2f3295db04bebc93249b685f7d7af7873faa911cd270ecd8363bd322ed5.jpg  \n",
            "  inflating: /content/iris/iris-versicolour/iris-045ec7d0261b5bc9de83cbfeac2a0875ef3030a708d11339fb0129439de81d57.jpg  \n",
            "  inflating: /content/iris/iris-versicolour/iris-05baeb3abc875aa3cd4b90ff5bf9e9a7457f496bde32786cdfb5ea25ff1ef74c.jpg  \n",
            "  inflating: /content/iris/iris-versicolour/iris-0870294b18d1c77f2b9e6f203e0ab25e8fdc665364be33ff3df503d09933204b.jpg  \n",
            "  inflating: /content/iris/iris-versicolour/iris-0879d3f5b337fe512da1c7bf1d2bfd7616d744d3eef7fa532455a879d5cc4ba0.jpg  \n",
            "  inflating: /content/iris/iris-versicolour/iris-09d556e9ed7ebba4c80ad14641dd1e87a5f8300e5cab1b139a9b01804a23e0bb.jpg  \n",
            "  inflating: /content/iris/iris-versicolour/iris-0a9fd5cc2af21fc8797b3d6c9a0a1df5d8817168d1e95907c78901a6d86f75f9.jpg  \n",
            "  inflating: /content/iris/iris-versicolour/iris-0b486eebacd93e114a6ec24264e035684cebe7d2074eb71eb1a71dd70bf61e8f.jpg  \n",
            "  inflating: /content/iris/iris-versicolour/iris-0befdbb7d3eeab5d4f851083ca266f4a1f0236c3a70ed2c3b1038571b117893b.jpg  \n",
            "  inflating: /content/iris/iris-versicolour/iris-0cd3800b74c2eab7688ecced3a22b29c1120aff3dbda0917c323a752822f16dd.jpg  \n",
            "  inflating: /content/iris/iris-versicolour/iris-0d91e950fa91fd2061447a0a6958ed2839f112f85e455a89eeee66462b2d2735.jpg  \n",
            "  inflating: /content/iris/iris-versicolour/iris-0e15b746b15cfdeadbf8514a8320c5eaa5dbf882bb15ee810eb98affc33de39e.jpg  \n",
            "  inflating: /content/iris/iris-versicolour/iris-0f133861ea3fe1b68f9f1b59ebd9116ff963ee7104a0c4200218a33903f82444.jpg  \n",
            "  inflating: /content/iris/iris-versicolour/iris-0fec175448a23db03c1987527f7e9bb74c18cffa76ef003f962c62603b1cbb87.jpg  \n",
            "  inflating: /content/iris/iris-versicolour/iris-1051c4b8975b55f269137b9c6268d05248cd7ef23c1573eaf19b4ddbf2c61d88.jpg  \n",
            "  inflating: /content/iris/iris-versicolour/iris-1175239c07a943d89a6335fb4b99a9fb5aabb2137c4d96102f10b25260ae523f.jpg  \n",
            "  inflating: /content/iris/iris-versicolour/iris-125b6645e086cd60131764a6bed12650e0f7f2091c8bbb72555c103196c01881.jpg  \n",
            "  inflating: /content/iris/iris-versicolour/iris-13dfaff08727abea3da8cfd8d097fe1404e76417fefe27ff71900a89954e145a.jpg  \n",
            "  inflating: /content/iris/iris-versicolour/iris-14cbed88b0d2a929477bdf1299724f22d782e90f29ce55531f4a3d8608f7d926.jpg  \n",
            "  inflating: /content/iris/iris-versicolour/iris-15039ee53e2f5cc572a16b73b30cc3b251e77117f457e235469c736bc697927b.jpg  \n",
            "  inflating: /content/iris/iris-versicolour/iris-1566f7f5421eaf423a82b3c1cd1328f2a685c5ef87d8d8e710f098635d86d3d0.jpg  \n",
            "  inflating: /content/iris/iris-versicolour/iris-176df578e9316acbd6ec7a90905fea657bd7c6e545821eea8f740b8a6dd392b2.jpg  \n",
            "  inflating: /content/iris/iris-versicolour/iris-17ac8f7b5734443090f35bdc531bfe05b0235b5d164afb5c95f9d35f13655cf3.jpg  \n",
            "  inflating: /content/iris/iris-versicolour/iris-186fe29e32ee1405ddbdd36236dd7691a3c45ba78cc4c0bf11489fa09fbb1b65.jpg  \n",
            "  inflating: /content/iris/iris-versicolour/iris-19c232066246383772ea39824b363a7c645d0412941cfc6453822086d88c025f.jpg  \n",
            "  inflating: /content/iris/iris-versicolour/iris-1a10e0a34dcf08bccc93cb38892c6d4b10bb5afe36d2ba737371716a9ddabbe2.jpg  \n",
            "  inflating: /content/iris/iris-versicolour/iris-1b0b5aabd59e4c6ed1ceb54e57534d76f2f3f97e0a81800ff7ed901c35a424ab.jpg  \n",
            "  inflating: /content/iris/iris-versicolour/iris-1b86a5a577403f45b3b96f522e5e9c6455b9db4d6ce94ab6d3421349008ebc85.jpg  \n",
            "  inflating: /content/iris/iris-versicolour/iris-1bb8d2297383d4f062cd27d3eca73b29c11ef827958f0245cf0cfa6c6fb87d8c.jpg  \n",
            "  inflating: /content/iris/iris-versicolour/iris-1d35672eb95f5b1cf14c2977eb025c246f83cdacd056115fdc93e946b56b610c.jpg  \n",
            "  inflating: /content/iris/iris-versicolour/iris-1ebcf1f677f52264e57ad6203b81034886a7427b943516f97d261ff7850b00eb.jpg  \n",
            "  inflating: /content/iris/iris-versicolour/iris-1fdb6535b53d8ffcef1104d7387f7df237748041a274d932a58b866923baf142.jpg  \n",
            "  inflating: /content/iris/iris-versicolour/iris-2118d3f235a574afd48a1f345bc2937dad6e7660648516c8029f4e76993ea74d.jpg  \n",
            "  inflating: /content/iris/iris-versicolour/iris-213cd179db580f8e633087dcda0969fd175d18d4f325cb5b4c5f394bbba0c1e0.jpg  \n",
            "  inflating: /content/iris/iris-versicolour/iris-21a1255e058722de1abe928e5bbe1c77bda31824c406c53f19530a3ca40be218.jpg  \n",
            "  inflating: /content/iris/iris-versicolour/iris-21b2ccc2a23b9f878abd0817939fe4b198e2e43fa687233c62b0d67a51ee5592.jpg  \n",
            "  inflating: /content/iris/iris-versicolour/iris-21f52e3e35fcb8d1f5d7c7e2c76d5eb9529590cdc4062dad6ac5ee99cff16ac7.jpg  \n",
            "  inflating: /content/iris/iris-versicolour/iris-246d2ace4494c396b7b26f2c51416c0801e53c43e61fb0f82c50d44ab7d733a1.jpg  \n",
            "  inflating: /content/iris/iris-versicolour/iris-2479944216a4f6f79b1bf438fe6b038331507054847b39e74c9c37270f83fe4a.jpg  \n",
            "  inflating: /content/iris/iris-versicolour/iris-24a2ce5094875567f5171e17020ae5c4892b01b635286d207cabfe25764378cc.jpg  \n",
            "  inflating: /content/iris/iris-versicolour/iris-2599ec087885d23e8ead6d55091a924a5c7e8b09c9a278e0a741cad8951296e1.jpg  \n",
            "  inflating: /content/iris/iris-versicolour/iris-28465709a0faa66b9250fc77d8362dabea912a0bc03ecf7b0b86edf689486e8e.jpg  \n",
            "  inflating: /content/iris/iris-versicolour/iris-2a09038b87009ecee5e5b4cd4cef068653809cc1e08984f193fad00f1c0df972.jpg  \n",
            "  inflating: /content/iris/iris-versicolour/iris-2ac575a689662b7045c25e2554df5f985a3c6c0fd5236fabef8de9c78815330c.jpg  \n",
            "  inflating: /content/iris/iris-versicolour/iris-2b93cba326d4e9a8ed0e0077f1042e00ec59806b6ba9ad093c8c4f099bfa39e0.jpg  \n",
            "  inflating: /content/iris/iris-versicolour/iris-2ecaad6dfe3d9b84a756bc2303a975a732718b954a6f54eae85f681ea3189b13.jpg  \n",
            "  inflating: /content/iris/iris-versicolour/iris-308389e34b6d9a61828b339916aed7af295fdb1c7577c23fb37252937619e7e4.jpg  \n",
            "  inflating: /content/iris/iris-versicolour/iris-30e4e56b1f170ff4863b178a0a43ea7a64fdd06c1f89a775ec4dbf5fec71e15c.jpg  \n",
            "  inflating: /content/iris/iris-versicolour/iris-318d451a8c95551aecfde6b55520f302966db0a26a84770427300780b35aa05a.jpg  \n",
            "  inflating: /content/iris/iris-versicolour/iris-32827aec52e0f3fa131fa85f2092fc6fa02b1b80642740b59d029cef920c26b3.jpg  \n",
            "  inflating: /content/iris/iris-versicolour/iris-336fc3472b6465826f7cd87d5cef8f78d43cf2772ebe058ce71e1c5bad74c0e1.jpg  \n",
            "  inflating: /content/iris/iris-versicolour/iris-338fc323ed045a908fb1e8ff991255e1b8e01c967e36b054cb65edddf97b3bb0.jpg  \n",
            "  inflating: /content/iris/iris-versicolour/iris-34a7cc16d26ba0883574e7a1c913ad50cf630e56ec08ee1113bf3584f4e40230.jpg  \n",
            "  inflating: /content/iris/iris-versicolour/iris-34f58ad4ea387643799fafc98eea76202ac73cd07ed9002254092500452022f6.jpg  \n",
            "  inflating: /content/iris/iris-versicolour/iris-360196ba36654c0d9070f95265a8a90bc224311eb34d1ab0cf851d8407d7c28e.jpg  \n",
            "  inflating: /content/iris/iris-versicolour/iris-36132c6df6b47bda180b1daaafc7ac8a32fd7f9af83a92569da41429da49ea5b.jpg  \n",
            "  inflating: /content/iris/iris-versicolour/iris-36f2b9282342292b67f38a55a62b0c66fa4e5bb58587f7fec90d1e93ea8c407a.jpg  \n",
            "  inflating: /content/iris/iris-versicolour/iris-377d3a78560b308b00c3cfa9cdb57afefa8ee9f55297b84d1ff09f70cde826bb.jpg  \n",
            "  inflating: /content/iris/iris-versicolour/iris-37ad07fd7b39bc377fa6e9cafdb6e0c57fb77df2c264fe631705a8436c0c2513.jpg  \n",
            "  inflating: /content/iris/iris-versicolour/iris-3934349f1fe07d0099a908bb81d7070ac5866a599698668ad35c1086170b9195.jpg  \n",
            "  inflating: /content/iris/iris-versicolour/iris-3ba1625bb78e4b69b114bdafcdab64104b211d8ebadca89409e9e7ead6a0557c.jpg  \n",
            "  inflating: /content/iris/iris-versicolour/iris-3cb0bb9a6170a07c5a887b168300d483e53cd3e7b7593eb5515ad1c1634f7340.jpg  \n",
            "  inflating: /content/iris/iris-versicolour/iris-3d10993b31cc464179cb527e85bff876d5e8561b88fc9a71ec44c80a5b0ee896.jpg  \n",
            "  inflating: /content/iris/iris-versicolour/iris-4172137322d46e06fee91ec92ef31f7d7e82caf7c931d86af6b4b30c52325e26.jpg  \n",
            "  inflating: /content/iris/iris-versicolour/iris-42214ce9975435213d959ca3dece8239d1ff68d73eefc305b39e3f3570bb2fbf.jpg  \n",
            "  inflating: /content/iris/iris-versicolour/iris-430fa45aad0edfeb5b7138ff208fdeaa801b9830a9eb68f378242465b727289a.jpg  \n",
            "  inflating: /content/iris/iris-versicolour/iris-432026d8501abcd495bd98937a82213da97fca410af1c46889eabbcf2fd1b589.jpg  \n",
            "  inflating: /content/iris/iris-versicolour/iris-4413379cba179dacfee06f156aa33e52f67727551ca810a2f67ef7c13f583812.jpg  \n",
            "  inflating: /content/iris/iris-versicolour/iris-46a9cd5d83f2ddc68375c55e46b3ace8a2404f7691becb4a5467b3c43bb0ee20.jpg  \n",
            "  inflating: /content/iris/iris-versicolour/iris-46c3aec2a6ee6c8a5b44b719145b07b73c1f670ee802be26c0ab5514a8136400.jpg  \n",
            "  inflating: /content/iris/iris-versicolour/iris-4824f6f1215d7b890d283060a4540a8696b3da8571c05a097b327500ae8e2b51.jpg  \n",
            "  inflating: /content/iris/iris-versicolour/iris-486642ca2c3486a275e1c73618079ca0ad1a75dbe38cbaf3e334db9bf7067d51.jpg  \n",
            "  inflating: /content/iris/iris-versicolour/iris-492ad2679ecb53c61d07be4ef996e0cf9be4ce960aa9021dc36fe6e334a84f61.jpg  \n",
            "  inflating: /content/iris/iris-versicolour/iris-4ac91c937476e67518810945ea3c9a3d324d15d7224bcaee26a8f7c435df0ea8.jpg  \n",
            "  inflating: /content/iris/iris-versicolour/iris-4bc0bc7527b6a155cc92c98a29463dcebf8aa6a44a4fa46c7da63b75c69e868c.jpg  \n",
            "  inflating: /content/iris/iris-versicolour/iris-4cc15cd54152928861ecbdc8df34895ed463403efb1571dac78e3223b70ef569.jpg  \n",
            "  inflating: /content/iris/iris-versicolour/iris-4d299344882047e8fcd3eb99775111d8f965820eef7685c1462516f04ac61061.jpg  \n",
            "  inflating: /content/iris/iris-versicolour/iris-4e03d9b1de982663bc81f26030b3a935ea9035f64b05e1b804788fee06ff1ba4.jpg  \n",
            "  inflating: /content/iris/iris-versicolour/iris-4e5d1022cc54b2f726588f724745f2b33017292d1672462c5be7ba8c09f8134f.jpg  \n",
            "  inflating: /content/iris/iris-versicolour/iris-4f9864121aa7049092ae8cfa1296cf4e1217451b1bb967fba6a3f76b6849f31b.jpg  \n",
            "  inflating: /content/iris/iris-versicolour/iris-4febb88ef811b5ca6077d17ef8ae5dbc598d3f869c52af7c14891def774d73fa.jpg  \n",
            "  inflating: /content/iris/iris-versicolour/iris-51ecc9944d7c6fbc5db922fe368813e211cd5183b7aff9a77c2c3f4b2866c207.jpg  \n",
            "  inflating: /content/iris/iris-versicolour/iris-522f3eb1807d015f99e66e73b19775800712890f2c7f5b777409a451fa47d532.jpg  \n",
            "  inflating: /content/iris/iris-versicolour/iris-52a09a48187289d6dd5bd620db6d83a8d2d67dc7b8b8e4451469dc018d4d85e7.jpg  \n",
            "  inflating: /content/iris/iris-versicolour/iris-53fdf3e91c59c502f1c19c9faa15aa77ba595740db60c2dff943ce5be7c79e4e.jpg  \n",
            "  inflating: /content/iris/iris-versicolour/iris-5476c5733b631bf4d7670a2d29c33c75670ba6c323eaf41fca5724c72c3efc38.jpg  \n",
            "  inflating: /content/iris/iris-versicolour/iris-54da9a9c5849583e3021f0d5a2ebc8813e6c7e7c167721a45d8beb3936b3487d.jpg  \n",
            "  inflating: /content/iris/iris-versicolour/iris-56acae7576aeb584a56c211ffe2c418ffa5b1cb55c32ea58252a38c440145b2a.jpg  \n",
            "  inflating: /content/iris/iris-versicolour/iris-589fa96b9a3c2654cf08d05d3bebf4ab7bc23592d7d5a95218f9ff87612992fa.jpg  \n",
            "  inflating: /content/iris/iris-versicolour/iris-590e7f5b8f4de94e4b82760919abd9684ec909d9f65691bed8e8f850010ac775.jpg  \n",
            "  inflating: /content/iris/iris-versicolour/iris-599b16016b353763c8626151a737adc361178eb8856ae55bb70ef69e23798a75.jpg  \n",
            "  inflating: /content/iris/iris-versicolour/iris-59c76616a70079cef529f7e651b6a8588d7ab36e6f743b57685753225313d520.jpg  \n",
            "  inflating: /content/iris/iris-versicolour/iris-5a313749aa61e9927389affdf88dccdf21d97d8a5f6aa2bd246ca4bc926903ba.jpg  \n",
            "  inflating: /content/iris/iris-versicolour/iris-5b3106db389d61f4277f43de4953e660ff858d8ab58a048b3d8bf8d10f556389.jpg  \n",
            "  inflating: /content/iris/iris-versicolour/iris-5c38dba6f6c27064eb3920a5758e8f86c26fec662cc1ac4b5208d5f30d1e3ead.jpg  \n",
            "  inflating: /content/iris/iris-versicolour/iris-5c55f8207918b5d27084f0b86641cbb885990a4ab27259168f8d4c398c08e892.jpg  \n",
            "  inflating: /content/iris/iris-versicolour/iris-5ff84f09773fa84a356a3835a69da5ecadc4831524a90da28740e0ec6f64fa4f.jpg  \n",
            "  inflating: /content/iris/iris-versicolour/iris-609d02a1f7bc3c63bda118242157d847c61218455984ad9a6cfa5871a0700714.jpg  \n",
            "  inflating: /content/iris/iris-versicolour/iris-60cf8e41801bc6fbdcff8df046cbbdb50ebc3083f5042e94013f201590bd627a.jpg  \n",
            "  inflating: /content/iris/iris-versicolour/iris-61b71f1de04a03ce719094b65179b06e3cd80afa01622b30cda8c3e41de6bfaa.jpg  \n",
            "  inflating: /content/iris/iris-versicolour/iris-6278d3cc6a9538a0f76c2ceb2ec2f20e4f28377b22892c438fa32a2b8ccbdbbc.jpg  \n",
            "  inflating: /content/iris/iris-versicolour/iris-62ef719cd70780088a4c140afae2a96c6ca9c22b72b078e3b9d25678d00b88a5.jpg  \n",
            "  inflating: /content/iris/iris-versicolour/iris-6497e8ea1a10a46e67a028e95878079b60838b5871aa43d4158cea544fe4feac.jpg  \n",
            "  inflating: /content/iris/iris-versicolour/iris-66a9af69fa34330c048917fd0ffb721b609e43b9689c7380442f9fa2a0094ee1.jpg  \n",
            "  inflating: /content/iris/iris-versicolour/iris-66eee9ff0bfa521905f733b2a0c6c5acad7b8f1a30d280ed4a17f54fe1822a7e.jpg  \n",
            "  inflating: /content/iris/iris-versicolour/iris-67c8cd324b42fd2b26a8dca1faca6b288c192805370a6bdf5abb77b8adb2297d.jpg  \n",
            "  inflating: /content/iris/iris-versicolour/iris-680b0ba8a41b7e9aeb0cdadc4813b9779145f4e20e775e2eb4d5aed6a04df9e5.jpg  \n",
            "  inflating: /content/iris/iris-versicolour/iris-69dc406da3381828ff821703923c962e97f6873cbf44a0074a13dc3c56b5e6e1.jpg  \n",
            "  inflating: /content/iris/iris-versicolour/iris-6bd33dd9dcaa57993d1a9a2553482460f65aa8d6ee647d58859284a1a63ddec5.jpg  \n",
            "  inflating: /content/iris/iris-versicolour/iris-6c89bbfd2071e4255e6ef4cc8f6f97a2bf67494cc916545f64ea310ab751df5c.jpg  \n",
            "  inflating: /content/iris/iris-versicolour/iris-6c9f07ed65cfe0162541320c5bb1b6c4e479683884c0aae9d82d464527a0a387.jpg  \n",
            "  inflating: /content/iris/iris-versicolour/iris-6caa7d5a1f88a1e5c2dc1f4d2a65b64afcd9cd701e6ba22510d9a93d9ca58110.jpg  \n",
            "  inflating: /content/iris/iris-versicolour/iris-6d7b50671d436253529686b3e43814e4623d7eda6885a1ec0ac44f8900cfb60f.jpg  \n",
            "  inflating: /content/iris/iris-versicolour/iris-6eb15a3dfd42349d0d2f007d040308897102698189688403dc2dd7e0083a2777.jpg  \n",
            "  inflating: /content/iris/iris-versicolour/iris-7038aef1137814473a91f19a63ac7a55a709c6497e30efc79ca57cfaa688f705.jpg  \n",
            "  inflating: /content/iris/iris-versicolour/iris-70d39023b41ec95a4290976b2f0cc4e3a536da1191e6b7fa08c7792e188f624f.jpg  \n",
            "  inflating: /content/iris/iris-versicolour/iris-749f5d850c4ab6a1b259472b421cd632098191f98e79af6f4262d4f2af76d4d5.jpg  \n",
            "  inflating: /content/iris/iris-versicolour/iris-74d1acf18cfacd0a728c180ec8e1c7b4f43aff72584b05ac6b7c59f5572bd4d4.jpg  \n",
            "  inflating: /content/iris/iris-versicolour/iris-75a6d269ab65a15a63830922e666aa587202af7b6b547ecdbcbd074a649d912d.jpg  \n",
            "  inflating: /content/iris/iris-versicolour/iris-775e054591059ea2aadba4e2e690a2396407396129cb280a8f206e523f7f3d5b.jpg  \n",
            "  inflating: /content/iris/iris-versicolour/iris-77afc65061dcb784e22592a727f2367114d08367e8f222dda6c371371da2f3f6.jpg  \n",
            "  inflating: /content/iris/iris-versicolour/iris-78368de7538c2913f94a332bff9f467a403809b8c3d7bc900b714d719a75d391.jpg  \n",
            "  inflating: /content/iris/iris-versicolour/iris-7b1bbc7c8ba25b3167d2b03453f1bfba1c12149a04ad7f4811643d94a9b88090.jpg  \n",
            "  inflating: /content/iris/iris-versicolour/iris-7b86c821e104080a0a6c2de3b9e8f14bd230dc7763172c7648e3fc7340fd5671.jpg  \n",
            "  inflating: /content/iris/iris-versicolour/iris-7c3b5c5518313fc6ff2c27fcbc1527065cbb42004d75d656671601fa485e5838.jpg  \n",
            "  inflating: /content/iris/iris-versicolour/iris-7cf1ebf02b2cc31539ed09ab89530fec6f31144a0d5248a50e7c14f64d24fe6e.jpg  \n",
            "  inflating: /content/iris/iris-versicolour/iris-7d1d6e862a0d44adcd539a0713bee334852e8543110142c1330328d5f80f9576.jpg  \n",
            "  inflating: /content/iris/iris-versicolour/iris-7dcc69fa294fe04767706c6f455ea6b31d33db647b08aab44b3cd9022e2f2249.jpg  \n",
            "  inflating: /content/iris/iris-versicolour/iris-7f7ecbb0135e6dd866ef698260fc9a1fed9d1af7323704ccbd65ee286a94b380.jpg  \n",
            "  inflating: /content/iris/iris-versicolour/iris-801b7efb867255e85137bc1e1b06fd6cbab70d20cab5b5046733392ecb5b3150.jpg  \n",
            "  inflating: /content/iris/iris-versicolour/iris-80ff80f84131cc702751cf6b8a7ca2e054b9e6c85aa0ba126b4cfef895e32cc5.jpg  \n",
            "  inflating: /content/iris/iris-versicolour/iris-821aac6bbdd55eedc447b9d3a98570d8277e07c9d84196bd33c7e2d5138009a0.jpg  \n",
            "  inflating: /content/iris/iris-versicolour/iris-850229e6293a741277eb5efaa64d03c812f007c5d0f470992a8d4cfdb902230c.jpg  \n",
            "  inflating: /content/iris/iris-versicolour/iris-8571a0441418a5fa9d0295b162d29fe96fa8cee47a75c32f3f6c841c5e02fe2d.jpg  \n",
            "  inflating: /content/iris/iris-versicolour/iris-8644099b4005e79ba37ed32d25bd5f5a7e9cba916c586fb1ae28ded158faba21.jpg  \n",
            "  inflating: /content/iris/iris-versicolour/iris-8669e4937a2003054408afd228d99cb737e9db5088f42d292267c43a3889001a.jpg  \n",
            "  inflating: /content/iris/iris-versicolour/iris-867d238d70bd39d3969968a6f5cbb370a4536de20a4f74567e25fb377f421f11.jpg  \n",
            "  inflating: /content/iris/iris-versicolour/iris-86c76e0f331bc62192c392cf7c3ea710d2272a8cc9928d2566a5fc4559e5dce4.jpg  \n",
            "  inflating: /content/iris/iris-versicolour/iris-86d782d20ef7a60e905e367050b0413ca566acc672bc92add0bb0304faa54cfc.jpg  \n",
            "  inflating: /content/iris/iris-versicolour/iris-86d81f8cbf8d438c64a6af85dadeae85defaefccfd16e7275a479479e947488d.jpg  \n",
            "  inflating: /content/iris/iris-versicolour/iris-874121a450fa8a420bdc79cc7808fd28c5ea98758a4b50337a12a009fa556139.jpg  \n",
            "  inflating: /content/iris/iris-versicolour/iris-875a96790adc5672e044cf9da9d2edb397627884dfe91c488ab3fb65f65c80ff.jpg  \n",
            "  inflating: /content/iris/iris-versicolour/iris-88cfeee2bb571d9e2906b52fe3a0e8b12ddd116a4a0a0b04e270952785fc5c28.jpg  \n",
            "  inflating: /content/iris/iris-versicolour/iris-8a1f03764c9fe97f3f0698a74f0b9dc1edbc7e303d5fdaa151b64303744cd81a.jpg  \n",
            "  inflating: /content/iris/iris-versicolour/iris-8a8bc54332a42bb35ee131d7b64e9375b4ac890632eb09e193835b838172d797.jpg  \n",
            "  inflating: /content/iris/iris-versicolour/iris-8e9439ec7231fa3b9bc9f62a67af4e180466b32a72316600431b1ec93e63b296.jpg  \n",
            "  inflating: /content/iris/iris-versicolour/iris-8eca79db5bcd4aea7a7b70b6b82785bcf940681674bbb6548f8be79d48227a6e.jpg  \n",
            "  inflating: /content/iris/iris-versicolour/iris-8fd1577f760bbb0e4c3acb3310f7fe7668f87333caf33adaabb0112a00f698b1.jpg  \n",
            "  inflating: /content/iris/iris-versicolour/iris-90b7d491b9a39bb5c8bb7649cce90ab7f483c2759fb55fda2d9067ac9eec7e39.jpg  \n",
            "  inflating: /content/iris/iris-versicolour/iris-92c4268516ace906ad1ac44592016e36d47a8c72a51cacca8597ba9e18a8278b.jpg  \n",
            "  inflating: /content/iris/iris-versicolour/iris-95d7ec04b8158f0873fa4aab7b0a5ec616553f3f9ddd6623c110e3bc8298248f.jpg  \n",
            "  inflating: /content/iris/iris-versicolour/iris-95f1788d21553a470cf83835816d8f6627a1103165e12a9558d69d8287919406.jpg  \n",
            "  inflating: /content/iris/iris-versicolour/iris-96306e6ca502202631733cfc50a09fb7f392b9c072d1ed9709c024e56aef0caa.jpg  \n",
            "  inflating: /content/iris/iris-versicolour/iris-98819ca3d07490b4cb5f75f0a431bf711416a00c22cf60ba49951f2b26440607.jpg  \n",
            "  inflating: /content/iris/iris-versicolour/iris-99b3475edfb7641cef49e8ea754d8f32b1ca97cd0438037a1b0e775edcb3a3a3.jpg  \n",
            "  inflating: /content/iris/iris-versicolour/iris-99b358b141c7e4619e9856729e22e4b7fdd4acd9c35f674cebe1167cfca64f17.jpg  \n",
            "  inflating: /content/iris/iris-versicolour/iris-9d56a1e7df2f2a2f25263116a4e6d98b3295d03ed26a3004dda87d99b9e5b85a.jpg  \n",
            "  inflating: /content/iris/iris-versicolour/iris-9d6f5203168069178d6c6aa65e3d3ccd8e6281c586c3b43d60d5f2d89dd8e288.jpg  \n",
            "  inflating: /content/iris/iris-versicolour/iris-9dc6c308fd1661fd6a4bb11784dd47fd3c43a195077d593f003a22e1d8d140f6.jpg  \n",
            "  inflating: /content/iris/iris-versicolour/iris-9dededf184993455c411a0ed81d6c3c55af7c610ccb55c6ae34dfac2f8bde978.jpg  \n",
            "  inflating: /content/iris/iris-versicolour/iris-9e6ce91679c9aaceb3e9c930f11e788aacbfa8341a2a5737583c14a4d6666f3d.jpg  \n",
            "  inflating: /content/iris/iris-versicolour/iris-9ee27633bb041ef1b677e03e7a86df708f63f0595512972403dcf5188a3f48f5.jpg  \n",
            "  inflating: /content/iris/iris-versicolour/iris-9ffe51c2abd973d25a299647fa9ccaf6aa9c8eecf37840d7486a061438cf5771.jpg  \n",
            "  inflating: /content/iris/iris-versicolour/iris-a03095b12c3a2ae637e0257ec54cb22c769c76b3b3f954497e74b9e88c9f5e3f.jpg  \n",
            "  inflating: /content/iris/iris-versicolour/iris-a0e65269f7dc7801ac1ad8bd0c5aa547a70c7655447e921d1d4d153a9d23815e.jpg  \n",
            "  inflating: /content/iris/iris-versicolour/iris-a14dc602b78c7e1fff399e693cade2fa95c2d38d1a6e4751976bc00f07b8cb69.jpg  \n",
            "  inflating: /content/iris/iris-versicolour/iris-a2841876689975813e597aa029330b10f718c98b699dfb2ef6192234a8fc17ad.jpg  \n",
            "  inflating: /content/iris/iris-versicolour/iris-a2be5db78e5b603a5297d9a7eec4e7f14ef2cba0c9d072dc0a59a4db3ab5bb13.jpg  \n",
            "  inflating: /content/iris/iris-versicolour/iris-a3961a84470c01b004941499adab746929dbd2f4ceaa2f21dbb4c634e5865687.jpg  \n",
            "  inflating: /content/iris/iris-versicolour/iris-a445b0720254984275097c83afbdb1fe896cb010b5c662a6532ed0601ea24d7c.jpg  \n",
            "  inflating: /content/iris/iris-versicolour/iris-a474f202ee27a78473fb7b9f42d9ca4bf465b684df440bb20258e8644b224886.jpg  \n",
            "  inflating: /content/iris/iris-versicolour/iris-a62c846687953a4520f7eaeae73d4071bd10b9960d30da9be2dd671e3811546d.jpg  \n",
            "  inflating: /content/iris/iris-versicolour/iris-a7b71d1b9fa474dd59389652531d36b1d0b0eed4c20968945292208891a87616.jpg  \n",
            "  inflating: /content/iris/iris-versicolour/iris-a7e13b6f2d7f796768d898f5f66dceefdbd566dd4406eea9f266fc16dd68a6f2.jpg  \n",
            "  inflating: /content/iris/iris-versicolour/iris-a8166e731633202c36def003a15cc609f67e8c2298bb933981598a25c7dbd7aa.jpg  \n",
            "  inflating: /content/iris/iris-versicolour/iris-a9259c79de5109b2e5570b83ff61ba63ed44562857f577fdc875d93e632ca33e.jpg  \n",
            "  inflating: /content/iris/iris-versicolour/iris-a968baef5183210e18cb109b89898e5908e66dd0dd7a3184eedf05ec36854d0e.jpg  \n",
            "  inflating: /content/iris/iris-versicolour/iris-aa39999c27149a81e651367bd702b7c81b8858f29f3aa861a824520f22fbbf25.jpg  \n",
            "  inflating: /content/iris/iris-versicolour/iris-aa8a55379f3177428a1004716068828fd756ccd4b72694160f8283334605e6e6.jpg  \n",
            "  inflating: /content/iris/iris-versicolour/iris-ab5ab3b25ab1fadca58724d80398694055ccf6a750eea18f8e0b16eb8c6b0ef8.jpg  \n",
            "  inflating: /content/iris/iris-versicolour/iris-abb14f0fe9921739a260bfea804fd16df0b23620eaf04c27c90524a11d47f37d.jpg  \n",
            "  inflating: /content/iris/iris-versicolour/iris-ad7da5f15e2848ca269f28cd1dc094f6f685de2275ceaebb8e79d2199b98f584.jpg  \n",
            "  inflating: /content/iris/iris-versicolour/iris-b005c82b844de575f0b972b9a1797b2b1fbe98c067c484a51006afc4f549ada4.jpg  \n",
            "  inflating: /content/iris/iris-versicolour/iris-b026efb61a9e3876749536afe183d2ace078e5e29615b07ac8792ab55ba90ebc.jpg  \n",
            "  inflating: /content/iris/iris-versicolour/iris-b28975838551071a4092fef39977bce17694c292acb77d86a456705e111766cf.jpg  \n",
            "  inflating: /content/iris/iris-versicolour/iris-b33a614aa3b675289eb50bb2b7cd9c0fc54a5c42ace86ae85d869d041eebd706.jpg  \n",
            "  inflating: /content/iris/iris-versicolour/iris-b3c26658e97eacae9686db3115217e6cd41c323e0ac366cfb66b8e297f5c0384.jpg  \n",
            "  inflating: /content/iris/iris-versicolour/iris-b67f5c4d41c363fb6372adba8a450abec6a9b578f8db6aba58a45db497c92840.jpg  \n",
            "  inflating: /content/iris/iris-versicolour/iris-b795e034b6ea08d3cd9acaa434c67aca9d17016991e8dd7d6fd19ae8f6120b77.jpg  \n",
            "  inflating: /content/iris/iris-versicolour/iris-b894a11e21bb8fc3bbc33b646669a1be1490cf134e81cb6c015f3d8350abf7a1.jpg  \n",
            "  inflating: /content/iris/iris-versicolour/iris-b943cab8255603e9cd5f9f4a4598a6255dd2738fd0929ba4cc9d301d5d2ca5be.jpg  \n",
            "  inflating: /content/iris/iris-versicolour/iris-bb4a7ad4c844987bc9dc9dfad2b363698811efe3615512997a13cd191c23febc.jpg  \n",
            "  inflating: /content/iris/iris-versicolour/iris-bc14791d9fed15529bba952cebd584f98b250a536b4a1913357652fef9c1ceb3.jpg  \n",
            "  inflating: /content/iris/iris-versicolour/iris-bc515e63b5a4af49db8c802c58c83db69075debf28c792990d55a10e881944d9.jpg  \n",
            "  inflating: /content/iris/iris-versicolour/iris-bcc926299806c7b0a5a2776401973293ab8562f8edea860c3f54f99c62bc25cb.jpg  \n",
            "  inflating: /content/iris/iris-versicolour/iris-bd11f6b55f9335000066f804521640af5ef78819d9adac3847b5137bfe8d815e.jpg  \n",
            "  inflating: /content/iris/iris-versicolour/iris-bd60a6ed0369df4bea1934ef52277c32757838123456a595c0f2484959553a36.jpg  \n",
            "  inflating: /content/iris/iris-versicolour/iris-bd8d83096126eaa10c44d48dbad4b36aeb9f605f1a0f6ca929d3d0d492dafeb6.jpg  \n",
            "  inflating: /content/iris/iris-versicolour/iris-bdae8314e4385d8e2322abd8e63a82758a9063c77514f49fc252e651cbd79f82.jpg  \n",
            "  inflating: /content/iris/iris-versicolour/iris-bf1073e12b5bfccef97c09ebc4f8e96b92dc6fdcc21fcd214609f9a8e03311d5.jpg  \n",
            "  inflating: /content/iris/iris-versicolour/iris-bfe099abe7cb86660649fa04b3dd48b7244f894ce1fddbb084a41de98343b843.jpg  \n",
            "  inflating: /content/iris/iris-versicolour/iris-c156236fb6e888764485e796f1f972bbc7ad960fe6330a7ce9182922046439c4.jpg  \n",
            "  inflating: /content/iris/iris-versicolour/iris-c15d6019ebe17d7446ced589ef5ef7a70474d35a8b072e0edfcec850b0a106db.jpg  \n",
            "  inflating: /content/iris/iris-versicolour/iris-c175cd02ac392ecead95d17049f5af1dcbe37851c3e42d73e6bb813d588ea70b.jpg  \n",
            "  inflating: /content/iris/iris-versicolour/iris-c1bb3c3c72e87027b1b7345f130e6d078540e5131dc5715b41994b835539573d.jpg  \n",
            "  inflating: /content/iris/iris-versicolour/iris-c3809bd509736f48955a165d54d5e9ef72809d869a083a59bccf9e2662056b19.jpg  \n",
            "  inflating: /content/iris/iris-versicolour/iris-c3b0db78904670ff57799147f600a7f6d6d45242e8cf99df3607fa730f416552.jpg  \n",
            "  inflating: /content/iris/iris-versicolour/iris-c6f9dd2a036999fc4a2ce6cbbe4ba8aacf4f6c3ec84e7ff17aa8fd9257c38dac.jpg  \n",
            "  inflating: /content/iris/iris-versicolour/iris-c917b9fdd2cb8347913cb06d2eafc9329f0ca705d6b4a297f01a102a48a4370c.jpg  \n",
            "  inflating: /content/iris/iris-versicolour/iris-c9343a9d6aaa78e848209572ee67cfadc907b9689585224e9fd68e9444b58d1c.jpg  \n",
            "  inflating: /content/iris/iris-versicolour/iris-c95b4462d659de1d7318d28c646c581c3fab341455fa8318cd98b9b6797f65fb.jpg  \n",
            "  inflating: /content/iris/iris-versicolour/iris-ca2c54931b6a4683d2112d4b28ccf050c87ad915564ba7dfba41c4c68a7f01e4.jpg  \n",
            "  inflating: /content/iris/iris-versicolour/iris-cca118aeb345af2344be83aef21ac713ddf38a9e779b01486f19c3155b366865.jpg  \n",
            "  inflating: /content/iris/iris-versicolour/iris-ccbfcc68b7e405cee17896e4fe8d23280d3444733abf05431d19800ba0110013.jpg  \n",
            "  inflating: /content/iris/iris-versicolour/iris-ceec54810a1843121dccc9626dce0297d916a922e01718b9e34487b483e05187.jpg  \n",
            "  inflating: /content/iris/iris-versicolour/iris-cf1ff1e3a367c227c3e1c55ed4f341f9840d71ec5a4f9b2181a447d1bcedcb3d.jpg  \n",
            "  inflating: /content/iris/iris-versicolour/iris-cf5babcededb7088a8c809a8547729f3e2af1cf9fca9903fac3ab43dbb6f43a1.jpg  \n",
            "  inflating: /content/iris/iris-versicolour/iris-d065d91699a91b8512973eec41b08255282fbfabe80b43aac7f837da2c8c0739.jpg  \n",
            "  inflating: /content/iris/iris-versicolour/iris-d35ec2a02f86acab64d8cc23d00eadb9ebb9c3971ff6b3aa717e0b4e8ce54ba9.jpg  \n",
            "  inflating: /content/iris/iris-versicolour/iris-d45748637a4cb2bf240812a06b4b42e08883c533537e90a9ba642eab1d313017.jpg  \n",
            "  inflating: /content/iris/iris-versicolour/iris-d4762a194567b6eb2b5bd9ccb0dc3089eb13883cf4691425b4e8a119f504a4ca.jpg  \n",
            "  inflating: /content/iris/iris-versicolour/iris-d6292422e07b9a7d802082b56645335f0ed2cf9be043fe1b12c1bc06e8de613f.jpg  \n",
            "  inflating: /content/iris/iris-versicolour/iris-dbc87fcecade2c070baaf99caf03f4f0f6e3aa977e34972383cb94d0efe8a95d.jpg  \n",
            "  inflating: /content/iris/iris-versicolour/iris-dbf1208d76bc3c5447de19b458426ec5955b5948e9d2bc565e1b7712fdb2e7a1.jpg  \n",
            "  inflating: /content/iris/iris-versicolour/iris-ddb685c56cfb9c8496bcba0d57710e1526fff7d499536b3942d0ab375fa1c4a6.jpg  \n",
            "  inflating: /content/iris/iris-versicolour/iris-ded550505a1088513b84abe5a912f9af817ec586721e949011b7f8eb763231c3.jpg  \n",
            "  inflating: /content/iris/iris-versicolour/iris-df4206653f1ec9909434323c05bb15ded18e72587e335f8905536c34a4be3d45.jpg  \n",
            "  inflating: /content/iris/iris-versicolour/iris-dfed1678d39063da041fd30f80ca8d9770350fbab0590a52792f0d3bcd80e9da.jpg  \n",
            "  inflating: /content/iris/iris-versicolour/iris-e02ac5de5aab2f7cf6aa971523f9a31ad8e121078ecb04d3bd12e4afd3de582e.jpg  \n",
            "  inflating: /content/iris/iris-versicolour/iris-e0705428c423271bcfd14e8e5473a349ba1664153a647c9a80143c72f447176d.jpg  \n",
            "  inflating: /content/iris/iris-versicolour/iris-e3010dd4f380a8cf1df8d32c57bcf95db2a8a3857cadae8a487454dd07007d08.jpg  \n",
            "  inflating: /content/iris/iris-versicolour/iris-e3ced80a961d727cdc7160d706e3ce4ce50a6d716352863800cb9af7262d3f0d.jpg  \n",
            "  inflating: /content/iris/iris-versicolour/iris-e4c769f972daaff8a78034bb7893052b0bfbc8252e9cf94e5e87a81f65912437.jpg  \n",
            "  inflating: /content/iris/iris-versicolour/iris-e616f535e59b742234c4eb85d815088704c5876878a4914863f16ec3f18f21c3.jpg  \n",
            "  inflating: /content/iris/iris-versicolour/iris-e62f076eb279ecbfe3fa873bad40a7cb6b8928b27c55eb94c139aee4be9d632a.jpg  \n",
            "  inflating: /content/iris/iris-versicolour/iris-e693a82bdd4d81d1ad17f81f90b85ccc236618c671930dc4c592f9691c115ca2.jpg  \n",
            "  inflating: /content/iris/iris-versicolour/iris-e76fa5406e02a312c102f16eb5d27c7e0de37b35f801e1ed4c28bd4caf133e7a.jpg  \n",
            "  inflating: /content/iris/iris-versicolour/iris-e779b478fd5ccde1b6337f42e943b08bfb2d9717e5b737ac31369c660c4dd174.jpg  \n",
            "  inflating: /content/iris/iris-versicolour/iris-e7e0774289e2153cc733ff62768c40f34ac9b7b42e23c1abc2739f275e71a754.jpg  \n",
            "  inflating: /content/iris/iris-versicolour/iris-e8d3fd862aae1c005bcc80a73fd34b9e683634933563e7538b520f26fd315478.jpg  \n",
            "  inflating: /content/iris/iris-versicolour/iris-e9da6dd69b7b07f80f6a813e2222eae8c8f7c3aeaa6bcc02b25ea7d763bcf022.jpg  \n",
            "  inflating: /content/iris/iris-versicolour/iris-ea2370478730ac0822bedf21787ed1c5cf6fedd4c946259d291dd789e7d60fa6.jpg  \n",
            "  inflating: /content/iris/iris-versicolour/iris-ea578f650069a67e5e660bb22b46c23e0a182cbfb59cdf5448cf20ce858131b6.jpg  \n",
            "  inflating: /content/iris/iris-versicolour/iris-eb01666d4591b2e03abecef5a7ded79c6d4ecb6d1922382c990ad95210d55795.jpg  \n",
            "  inflating: /content/iris/iris-versicolour/iris-eb3242367930a8e8a8aad00c70961bb493cedfbcf6ce0fb5c0357d1080dbfc27.jpg  \n",
            "  inflating: /content/iris/iris-versicolour/iris-ec9d25e8f3a4c9e7f3eeecbeaa5a11c1ed3192224d933c59bd7ca8c3c47a454f.jpg  \n",
            "  inflating: /content/iris/iris-versicolour/iris-ecd14a5063e73b96ef3d1cb147dfb232921dd00f2aaac889af9b174877d40418.jpg  \n",
            "  inflating: /content/iris/iris-versicolour/iris-ed13fddaf9a11b97ab5e482f15e826178260b876db00fba191d47490ab16328f.jpg  \n",
            "  inflating: /content/iris/iris-versicolour/iris-ed5b4e072d43bc53a00a4a7f4d0f5d7c0cbd6a006e9c2d463128cedc956cb3de.jpg  \n",
            "  inflating: /content/iris/iris-versicolour/iris-edb3e2e0ccbf7a67ddf80dae96289ab9283ccc1c7c40e29aea93f098eb96ffc3.jpg  \n",
            "  inflating: /content/iris/iris-versicolour/iris-ee17e4bf9b1518b3c1add7494811731fd4989ca454d572adabbe8889bffc7dc0.jpg  \n",
            "  inflating: /content/iris/iris-versicolour/iris-ef705492ec4fdac4f1ce6f325f7268e993d4806677dbb4353b2cad6f1b3c0de2.jpg  \n",
            "  inflating: /content/iris/iris-versicolour/iris-f121f5da73a30a35f542b0eaf644c7aba6cdf94ed26482916923a01f743eb810.jpg  \n",
            "  inflating: /content/iris/iris-versicolour/iris-f276ad0c14d5aafc055f73c926d1370af093b0e086caf146e271ef8afdb08c5f.jpg  \n",
            "  inflating: /content/iris/iris-versicolour/iris-f3018a9440d17c265062d1c61475127f9952b6fe951d38fd7700402d706c0b01.jpg  \n",
            "  inflating: /content/iris/iris-versicolour/iris-f44480d01e3b74ff7735af717af8ce30eae87d4c2187041fcd27290ac5f87701.jpg  \n",
            "  inflating: /content/iris/iris-versicolour/iris-f6e4890dee087bd52e2c58ea4c6c2652da81809603ea3af561f11f8c2775c5f3.jpg  \n",
            "  inflating: /content/iris/iris-versicolour/iris-f7bc31af859b410a2e508c0c59f92acb31de19a89fa3d12aece125b341a278c4.jpg  \n",
            "  inflating: /content/iris/iris-versicolour/iris-f88cf944ae97b92292eaeee58483259709e0914ff55ba9980f432961fc12c265.jpg  \n",
            "  inflating: /content/iris/iris-versicolour/iris-f9e9cd4ee8537479728e1a68426e6eabbfacd35df6ca469994a223fcb3be6aff.jpg  \n",
            "  inflating: /content/iris/iris-versicolour/iris-f9ed657c72ea27e00dd1a393da3bb82899b2e935054e11f37703db344f39b8e4.jpg  \n",
            "  inflating: /content/iris/iris-versicolour/iris-fa59477b6d680ff1e96f3d4b25ed0c0ca17430e8d3fe408afef970d4b357aa97.jpg  \n",
            "  inflating: /content/iris/iris-versicolour/iris-fa775e8825e3e26f6a994d7d7f61e6e5d0ea0dfbba0c4fadfad01a3be142e73b.jpg  \n",
            "  inflating: /content/iris/iris-versicolour/iris-fc4b0cc65387ff78471659d14a78f0309a76f4c3ec641b871e40b40424255097.jpg  \n",
            "  inflating: /content/iris/iris-virginica/iris-08c7a0e53ee1de193062d7bf86a21adec67b9115fd6099f1b2d2ee728a936002.jpg  \n",
            "  inflating: /content/iris/iris-virginica/iris-0980b03485ebf621a048bdbc8547414f1244fa900f5dc4c00fbdc059bf232057.jpg  \n",
            "  inflating: /content/iris/iris-virginica/iris-0b486eebacd93e114a6ec24264e035684cebe7d2074eb71eb1a71dd70bf61e8f.jpg  \n",
            "  inflating: /content/iris/iris-virginica/iris-0e5228449eefd43ae577dabe6fe4a940497234cb468803a1261a261b339715af.jpg  \n",
            "  inflating: /content/iris/iris-virginica/iris-0f612632106cde3e540e50d8e798ab31a1f88e61d9d82c6033caf97141d95db8.jpg  \n",
            "  inflating: /content/iris/iris-virginica/iris-10fb9f154ead3c56ba0ab2c1ab609521c963f2326a648f82c9d7cabd178fc425.jpg  \n",
            "  inflating: /content/iris/iris-virginica/iris-11fec7884160b8ce5c24faea946e137f8f38eefef4a1b76de6a72e1b0b279c4b.jpg  \n",
            "  inflating: /content/iris/iris-virginica/iris-12adb3a8516399e27ff1a9d20d28dca4674836ed00c7c0ae268afce2c30c4451.jpg  \n",
            "  inflating: /content/iris/iris-virginica/iris-1804702f49c2c385f8b30913569aebc6dce3da52ec02c2c638a2b0806f16014e.jpg  \n",
            "  inflating: /content/iris/iris-virginica/iris-240cff8aa17cb406f5c0b1be7420b2ac850e3c75ce0148d76abe3328c145367e.jpg  \n",
            "  inflating: /content/iris/iris-virginica/iris-249370d38cc29bc2a4038e528f9c484c186fe46a126e4b6c76607860679c0453.jpg  \n",
            "  inflating: /content/iris/iris-virginica/iris-24cb956e50b7ea4ab5e25eb5450298d37b7b0c49d204279dfdbf9c90c376ddf4.jpg  \n",
            "  inflating: /content/iris/iris-virginica/iris-2599ec087885d23e8ead6d55091a924a5c7e8b09c9a278e0a741cad8951296e1.jpg  \n",
            "  inflating: /content/iris/iris-virginica/iris-28e44e86e0aedb8e7d50af2b7de6975977a42ae6898aa1cf45a272fcf0300886.jpg  \n",
            "  inflating: /content/iris/iris-virginica/iris-31fe72f1656b49b2079a9f16636ae4b3d77724ae40738f7fd2cf69f11cd0ea18.jpg  \n",
            "  inflating: /content/iris/iris-virginica/iris-35f1485663090dcedddce2648fb7486fb0146fe485cdee9ee77924dcc1507dea.jpg  \n",
            "  inflating: /content/iris/iris-virginica/iris-3683dca27dff32584f808ae43a6dcd76fb271cb565e0f4ccdc1280c49aad6642.jpg  \n",
            "  inflating: /content/iris/iris-virginica/iris-3b19970f2f6807b8a41c3c426d4b0032fba84d025929eb6e6ff01501995fc1c2.jpg  \n",
            "  inflating: /content/iris/iris-virginica/iris-3dec97fe46d33e194520ca70740e4c2e11b0ffbffbd0aec0d06afdc167ddf775.jpg  \n",
            "  inflating: /content/iris/iris-virginica/iris-3eed72bc2511f619190ce79d24a0436fef7fcf424e25523cb849642d14ac7bcf.jpg  \n",
            "  inflating: /content/iris/iris-virginica/iris-42efc1ea0da9306b69ddcca00264da0c7ca82128a1855f2a50fdf8a2e83a04a3.jpg  \n",
            "  inflating: /content/iris/iris-virginica/iris-49474410fc2aaaaa011876b6cebdefad22fda03d6ff11608c7c931e00df87451.jpg  \n",
            "  inflating: /content/iris/iris-virginica/iris-49a9158e46e788a39eeaefe82b19504d58dde167f540df6bc9492c3916d5f7ca.jpg  \n",
            "  inflating: /content/iris/iris-virginica/iris-4b47f927405d90caa15cbf17b0442390fc71a2ca6fb8d07138e8de17d739e9a4.jpg  \n",
            "  inflating: /content/iris/iris-virginica/iris-4c5d9a33327db025d9c391aeb182cbe20cfab4d4eb4ac951cc5cd15e132145d8.jpg  \n",
            "  inflating: /content/iris/iris-virginica/iris-4e7fc6a442a97fe9fabbaf08b5dc10f35839719e37b27431991c713c0e2a10d9.jpg  \n",
            "  inflating: /content/iris/iris-virginica/iris-53a33a278d1a81d6420e002fd2fe809fe6593a1bdebe94efcfc51b4528663281.jpg  \n",
            "  inflating: /content/iris/iris-virginica/iris-5567fe0e53dd949e2343a9c4d9386c99bbd8fab1adb384a5649a4ae976485e01.jpg  \n",
            "  inflating: /content/iris/iris-virginica/iris-5691cad06fe37f743025c097fa9c4cec85e20ca3b0efff29175e60434e212421.jpg  \n",
            "  inflating: /content/iris/iris-virginica/iris-5da184e8620ebf0feef4d5ffe4346e6c44b2fb60cecc0320bd7726a1844b14cd.jpg  \n",
            "  inflating: /content/iris/iris-virginica/iris-5fa040dabb4dc22ebd79a3bb8dd00195041e5878f0ee5099c0c1997901ec891a.jpg  \n",
            "  inflating: /content/iris/iris-virginica/iris-61b71f1de04a03ce719094b65179b06e3cd80afa01622b30cda8c3e41de6bfaa.jpg  \n",
            "  inflating: /content/iris/iris-virginica/iris-621b3bce9226df10d785f6c9c2c1918cd6795de48f6b34688c026af6f2b439c2.jpg  \n",
            "  inflating: /content/iris/iris-virginica/iris-63ef6a48db0445db3601ff85b1e9f0efcb73b9d560a64f997c3a8ce663aa6023.jpg  \n",
            "  inflating: /content/iris/iris-virginica/iris-68d83ad09262afb25337ccc1d0f3a6d36f118910f36451ce8a6600c77a8aa5bd.jpg  \n",
            "  inflating: /content/iris/iris-virginica/iris-697588d7bb5e17040e52746f753a2ecc171a78e3c8180279243d9dc459b88e3e.jpg  \n",
            "  inflating: /content/iris/iris-virginica/iris-6a799ec7c0544366d5c237afeebf9e71f704f8fa96584f0613fd02530f5f3023.jpg  \n",
            "  inflating: /content/iris/iris-virginica/iris-6e49e60db77a7e4451236167ce997b26d0345e23b578051c79fcbc0689192645.jpg  \n",
            "  inflating: /content/iris/iris-virginica/iris-753248ef7e9ad66f900360e29b32ed15efccdf0c374b3a2b1cfd90346dc138f0.jpg  \n",
            "  inflating: /content/iris/iris-virginica/iris-874121a450fa8a420bdc79cc7808fd28c5ea98758a4b50337a12a009fa556139.jpg  \n",
            "  inflating: /content/iris/iris-virginica/iris-8772f981742bcc671077f0e7c0ddc1458d37f6110ce2398ec88426e5f945d0dd.jpg  \n",
            "  inflating: /content/iris/iris-virginica/iris-8a29d0ebde79da38cdd2dc47f19426ed8845249744985f4926cafea11eb9b3eb.jpg  \n",
            "  inflating: /content/iris/iris-virginica/iris-8df4654cbc178e47d55a6595bb1a92a38fa60bfc1b88af949f84aafa63caa112.jpg  \n",
            "  inflating: /content/iris/iris-virginica/iris-909424cba44f59686df080e271953ada99dd7e285d4a4b3b4cc155e4893aedca.jpg  \n",
            "  inflating: /content/iris/iris-virginica/iris-96c3de62b69df9892c388ce6d7920e3813d0c485980e9b1d991ddb5cf52f3086.jpg  \n",
            "  inflating: /content/iris/iris-virginica/iris-96f06136df7a415550b90e443771d0b5b0cd990b503b64cc4987f5cb6797fa9b.jpg  \n",
            "  inflating: /content/iris/iris-virginica/iris-98819ca3d07490b4cb5f75f0a431bf711416a00c22cf60ba49951f2b26440607.jpg  \n",
            "  inflating: /content/iris/iris-virginica/iris-9a37ae71aca0942cdc2135bca30e4da96f45ad85fa41a57f8d407e6395bec7f8.jpg  \n",
            "  inflating: /content/iris/iris-virginica/iris-9a889c96a37e8927f20773783a084f31897f075353d34a304c85e53be480e72a.jpg  \n",
            "  inflating: /content/iris/iris-virginica/iris-9ce2d8c4f1eae5911fcbd2883137ba5542c87cc2fe85b0a3fbec2c45293c903e.jpg  \n",
            "  inflating: /content/iris/iris-virginica/iris-9e6ce91679c9aaceb3e9c930f11e788aacbfa8341a2a5737583c14a4d6666f3d.jpg  \n",
            "  inflating: /content/iris/iris-virginica/iris-a5c2f82647f867e1d23be16be8b83d9b029adf5010d87dcb5ed30460ce1f46db.jpg  \n",
            "  inflating: /content/iris/iris-virginica/iris-a7733a0a125651c8a0e202f100dd722382cab84d5d98b20f44928cf9eab99d79.jpg  \n",
            "  inflating: /content/iris/iris-virginica/iris-ac8fcb8564c99d102c195cb2550de6304b9f0d428a9e9a2bbf9bd527ca4b2bf1.jpg  \n",
            "  inflating: /content/iris/iris-virginica/iris-b1c52aa9352103ffd4965dbf8e1afba05960fd0b701993d88568b0ac28d95068.jpg  \n",
            "  inflating: /content/iris/iris-virginica/iris-b3c086333cb5ccb7bb66a163cf4bf449dc0f28df27d6580a35832f32fd67bfc9.jpg  \n",
            "  inflating: /content/iris/iris-virginica/iris-b8646fac43bada69c0991ef2627a230ab03f78430fd4a38c0f0966ffb4571398.jpg  \n",
            "  inflating: /content/iris/iris-virginica/iris-bcc926299806c7b0a5a2776401973293ab8562f8edea860c3f54f99c62bc25cb.jpg  \n",
            "  inflating: /content/iris/iris-virginica/iris-bdae8314e4385d8e2322abd8e63a82758a9063c77514f49fc252e651cbd79f82.jpg  \n",
            "  inflating: /content/iris/iris-virginica/iris-bfe099abe7cb86660649fa04b3dd48b7244f894ce1fddbb084a41de98343b843.jpg  \n",
            "  inflating: /content/iris/iris-virginica/iris-c238b6ec47053761edf13684d3f970df2565016d4f493b9d7559bdb0efabd802.jpg  \n",
            "  inflating: /content/iris/iris-virginica/iris-c31e6056c94b5cb618436fbaac9eaff73403fa1b87a72db2c363d172a4db1820.jpg  \n",
            "  inflating: /content/iris/iris-virginica/iris-c45295e76c6289504921412293d5ddbe4610bb6e3b593ea9ec90958e74b73ed2.jpg  \n",
            "  inflating: /content/iris/iris-virginica/iris-ca40bc5839ee2f9f5dcac621235a1db2f533f40f96a35e1282f907b40afa457d.jpg  \n",
            "  inflating: /content/iris/iris-virginica/iris-cf5babcededb7088a8c809a8547729f3e2af1cf9fca9903fac3ab43dbb6f43a1.jpg  \n",
            "  inflating: /content/iris/iris-virginica/iris-d99d5fd2de5be1419cbd569570dbb6c9a6c8ec4f0a1ff5b55dc2607f6ecdca8f.jpg  \n",
            "  inflating: /content/iris/iris-virginica/iris-db756cf8db2d8da5fd7604d0955e65da8f633d1504fa1ab9e027f4e270bae17a.jpg  \n",
            "  inflating: /content/iris/iris-virginica/iris-deb0300afea7ed2f19c52a5242f88177cfc7459c33c4c8cc583c313fa188d131.jpg  \n",
            "  inflating: /content/iris/iris-virginica/iris-e0022650ad7be128f517b70d30b0462d2a69bae0202ad53c3cac1c4894f19ef9.jpg  \n",
            "  inflating: /content/iris/iris-virginica/iris-e43c13aa505cd1220f6046bb9935c889a97f8370d8a49ad25a3c97ac38eb287f.jpg  \n",
            "  inflating: /content/iris/iris-virginica/iris-e4c769f972daaff8a78034bb7893052b0bfbc8252e9cf94e5e87a81f65912437.jpg  \n",
            "  inflating: /content/iris/iris-virginica/iris-e779b478fd5ccde1b6337f42e943b08bfb2d9717e5b737ac31369c660c4dd174.jpg  \n",
            "  inflating: /content/iris/iris-virginica/iris-e8d3fd862aae1c005bcc80a73fd34b9e683634933563e7538b520f26fd315478.jpg  \n",
            "  inflating: /content/iris/iris-virginica/iris-eb3242367930a8e8a8aad00c70961bb493cedfbcf6ce0fb5c0357d1080dbfc27.jpg  \n",
            "  inflating: /content/iris/iris-virginica/iris-eba0c546e9b7b3d92f0b7eb98b2914810912990789479838807993d13787a2d9.jpg  \n",
            "  inflating: /content/iris/iris-virginica/iris-ec288bdad71388f907457db2476f12a5cb43c28cfa28d2a2077398a42b948a35.jpg  \n",
            "  inflating: /content/iris/iris-virginica/iris-f22d4b9605e62db13072246ff6925b9cf0240461f9dfc948d154b983db4243b9.jpg  \n",
            "  inflating: /content/iris/iris-virginica/iris-f47c5963cdbaa3238ba2d446848e8449c6af83e663f0a9216cf0baba8429b36f.jpg  \n",
            "  inflating: /content/iris/iris-virginica/iris-f61433c22fa629345932977e82cefc2368fd1dbd93e6040ea5f237409c4238c8.jpg  \n",
            "  inflating: /content/iris/iris-virginica/iris-f7bc31af859b410a2e508c0c59f92acb31de19a89fa3d12aece125b341a278c4.jpg  \n",
            "  inflating: /content/iris/iris-virginica/iris-fa4b6d7e3617216104b1405cda21bf234840cd84a2c1966034caa63def2f64f0.jpg  \n",
            "  inflating: /content/iris/iris-virginica/iris-fb69572a59584f51fa6ea545d9ef64ac9e9c5bc59551d06b532ddb1797ce2c63.jpg  \n",
            "  inflating: /content/iris/iris-virginica/iris-fbcd292ba66d3f3ff2d0aa1f294e6c644106588b6083f526ddfb3097c7ff122a.jpg  \n",
            "  inflating: /content/iris/iris-virginica/iris-fe01d69f28dad8e7da6075a13e6eb20284ae8b9b72e58db01904f4cdfd4e8c98.jpg  \n",
            "  inflating: /content/iris/iris-virginica/iris-fe6614752d2fac2e7318af6fa3f00842c04334082848da76a189e466ae489d93.jpg  \n"
          ]
        }
      ]
    },
    {
      "cell_type": "code",
      "source": [
        "!nvidia-smi"
      ],
      "metadata": {
        "colab": {
          "base_uri": "https://localhost:8080/"
        },
        "id": "kPgPvY3C9E0r",
        "outputId": "be001f69-7f49-4a79-debf-3fe7745e3b87"
      },
      "execution_count": null,
      "outputs": [
        {
          "output_type": "stream",
          "name": "stdout",
          "text": [
            "Sun Jan 19 10:13:37 2025       \n",
            "+---------------------------------------------------------------------------------------+\n",
            "| NVIDIA-SMI 535.104.05             Driver Version: 535.104.05   CUDA Version: 12.2     |\n",
            "|-----------------------------------------+----------------------+----------------------+\n",
            "| GPU  Name                 Persistence-M | Bus-Id        Disp.A | Volatile Uncorr. ECC |\n",
            "| Fan  Temp   Perf          Pwr:Usage/Cap |         Memory-Usage | GPU-Util  Compute M. |\n",
            "|                                         |                      |               MIG M. |\n",
            "|=========================================+======================+======================|\n",
            "|   0  Tesla T4                       Off | 00000000:00:04.0 Off |                    0 |\n",
            "| N/A   42C    P8               9W /  70W |      0MiB / 15360MiB |      0%      Default |\n",
            "|                                         |                      |                  N/A |\n",
            "+-----------------------------------------+----------------------+----------------------+\n",
            "                                                                                         \n",
            "+---------------------------------------------------------------------------------------+\n",
            "| Processes:                                                                            |\n",
            "|  GPU   GI   CI        PID   Type   Process name                            GPU Memory |\n",
            "|        ID   ID                                                             Usage      |\n",
            "|=======================================================================================|\n",
            "|  No running processes found                                                           |\n",
            "+---------------------------------------------------------------------------------------+\n"
          ]
        }
      ]
    },
    {
      "cell_type": "markdown",
      "metadata": {
        "id": "1koThGh33eYb"
      },
      "source": [
        "### requirements\n",
        "- keras/tensorflow\n",
        "- matplotlib\n",
        "- numpy\n",
        "\n",
        "### ข้อมูล model\n",
        "- ใช้ Convolutional Neural Network (CNN) ในการทำนายรูปภาพดอก iris ว่าเป็น iris ชนิดใด\n",
        "- ใช้ architecture ตามใจในการสร้าง model\n",
        "- เลือกใช้ loss function เป็น categorical_crossentropy\n",
        "- เลือกใช้ optimizer กับ learning ตามที่เหมาะสม"
      ]
    },
    {
      "cell_type": "code",
      "execution_count": null,
      "metadata": {
        "id": "vjdmHBHv3eYc"
      },
      "outputs": [],
      "source": [
        "from __future__ import print_function\n",
        "\n",
        "import datetime\n",
        "import keras\n",
        "import numpy as np\n",
        "import random\n",
        "import tensorflow as tf\n",
        "from keras.datasets import mnist\n",
        "from keras.models import Sequential\n",
        "from keras.layers import Dense, Dropout, Activation, Flatten,BatchNormalization,Input,AveragePooling2D\n",
        "from keras.layers import Conv2D, MaxPooling2D\n",
        "from keras import backend as K"
      ]
    },
    {
      "cell_type": "code",
      "execution_count": null,
      "metadata": {
        "id": "kSZvYD_D3eYe"
      },
      "outputs": [],
      "source": [
        "import os\n",
        "def set_seed(seed_value=1234):\n",
        "    random.seed(seed_value)\n",
        "    np.random.seed(seed_value)\n",
        "    tf.random.set_seed(seed_value)\n",
        "    os.environ['PYTHONHASHSEED'] = str(seed_value)\n",
        "set_seed(426969)"
      ]
    },
    {
      "cell_type": "markdown",
      "source": [
        "### Dataloader and normalization\n",
        "\n",
        "การทำ Dataloader จำเป็นต้องต้องทำการกำหนดค่าของแต่ละชนิดก่อน\n",
        "\n",
        " - image_dataset_from_directory function : ทำให้สามารถ loaddata หลาย class ได้ในที่เดียว\n",
        "```python\n",
        "keras.utils.image_dataset_from_directory(\n",
        "                                              directory,\n",
        "                                             shuffle=True,\n",
        "                                             batch_size=BATCH_SIZE,\n",
        "                                             image_size=IMG_SIZE,\n",
        "                                             validation_split=0.2,\n",
        "                                             subset='training' or 'validation',\n",
        "                                             seed=42)\n",
        ")\n",
        "```"
      ],
      "metadata": {
        "id": "jYLYnye-38fH"
      }
    },
    {
      "cell_type": "code",
      "source": [
        "BATCH_SIZE = 10\n",
        "IMG_SIZE = (224, 224)"
      ],
      "metadata": {
        "id": "DGoP8Gb8Ho7U"
      },
      "execution_count": null,
      "outputs": []
    },
    {
      "cell_type": "code",
      "source": [
        "train_dest = keras.utils.image_dataset_from_directory(\n",
        "                                          \"/content/iris\",\n",
        "                                          shuffle=True,\n",
        "                                          batch_size=BATCH_SIZE,\n",
        "                                          color_mode=\"rgb\",\n",
        "                                          image_size=IMG_SIZE,\n",
        "                                          validation_split=0.2,\n",
        "                                          subset='training',\n",
        "                                          seed = 426969)"
      ],
      "metadata": {
        "colab": {
          "base_uri": "https://localhost:8080/"
        },
        "id": "MiFYIYK-3ys0",
        "outputId": "7b0b6d5a-d717-48bb-c683-24a7079af0b3"
      },
      "execution_count": null,
      "outputs": [
        {
          "output_type": "stream",
          "name": "stdout",
          "text": [
            "Found 421 files belonging to 3 classes.\n",
            "Using 337 files for training.\n"
          ]
        }
      ]
    },
    {
      "cell_type": "code",
      "source": [
        "valid_dset = keras.utils.image_dataset_from_directory(\n",
        "                                          \"/content/iris\",\n",
        "                                          shuffle=True,\n",
        "                                          batch_size=BATCH_SIZE,\n",
        "                                          color_mode=\"rgb\",\n",
        "                                          image_size=IMG_SIZE,\n",
        "                                          validation_split=0.2,\n",
        "                                          subset='validation',\n",
        "                                          seed = 426969)"
      ],
      "metadata": {
        "colab": {
          "base_uri": "https://localhost:8080/"
        },
        "id": "AgYc6dgtC8T-",
        "outputId": "36e07553-5923-4987-bc35-5d863f20458f"
      },
      "execution_count": null,
      "outputs": [
        {
          "output_type": "stream",
          "name": "stdout",
          "text": [
            "Found 421 files belonging to 3 classes.\n",
            "Using 84 files for validation.\n"
          ]
        }
      ]
    },
    {
      "cell_type": "code",
      "source": [
        "class_names = train_dest.class_names\n",
        "class_names"
      ],
      "metadata": {
        "colab": {
          "base_uri": "https://localhost:8080/"
        },
        "id": "3w6GnNT2IUk5",
        "outputId": "2aba336f-1e40-47d2-f598-cdd448485836"
      },
      "execution_count": null,
      "outputs": [
        {
          "output_type": "execute_result",
          "data": {
            "text/plain": [
              "['iris-setosa', 'iris-versicolour', 'iris-virginica']"
            ]
          },
          "metadata": {},
          "execution_count": 9
        }
      ]
    },
    {
      "cell_type": "code",
      "source": [
        "for images, labels in valid_dset.take(1):\n",
        "    print(images.shape)  # Should print (batch_size, 224, 224, 3)\n",
        "    print(labels.shape)  # Should print (batch_size,)"
      ],
      "metadata": {
        "colab": {
          "base_uri": "https://localhost:8080/"
        },
        "id": "Du7gPJUJVCUc",
        "outputId": "3446ccb2-aa80-46b6-e0ab-28b5f2c367c7"
      },
      "execution_count": null,
      "outputs": [
        {
          "output_type": "stream",
          "name": "stdout",
          "text": [
            "(10, 224, 224, 3)\n",
            "(10,)\n"
          ]
        }
      ]
    },
    {
      "cell_type": "markdown",
      "source": [
        "### Train section\n",
        "\n",
        "#### architecture\n",
        "* feature layer :\n",
        "    3 Conv2D 32,64,128 (3,3)  \n",
        "    2 AveragePooling2D (2,2)\n",
        "* FC : Dense 256 1x"
      ],
      "metadata": {
        "id": "ozzd_PVwJCd1"
      }
    },
    {
      "cell_type": "code",
      "source": [
        "model = Sequential([\n",
        "    Input(shape=(224, 224, 3)),\n",
        "    BatchNormalization(),\n",
        "    Conv2D(32, (3, 3), activation='relu'),\n",
        "    MaxPooling2D(),  # Pool size of 2x2\n",
        "    Dropout(0.2),\n",
        "    Conv2D(64, (3, 3), activation='relu'),\n",
        "    MaxPooling2D(),\n",
        "    Dropout(0.2),\n",
        "    Conv2D(128, (3, 3), activation='relu'),\n",
        "    MaxPooling2D(),\n",
        "    Flatten(),  # Converts feature maps into a 1D vector\n",
        "    Dropout(0.2),\n",
        "    Dense(256, activation='relu'),\n",
        "    Dense(len(class_names), activation='softmax')  # Ensure len(class_names) matches your dataset\n",
        "])"
      ],
      "metadata": {
        "id": "VYkyOPQlI9jn"
      },
      "execution_count": null,
      "outputs": []
    },
    {
      "cell_type": "markdown",
      "source": [
        "sparse_categorical_crossentropy vs categorical_crossentropy\n",
        "\n",
        "index endcoding | one-hot endcoding"
      ],
      "metadata": {
        "id": "J5uA8Ty_L3kr"
      }
    },
    {
      "cell_type": "code",
      "source": [
        "model.compile(optimizer='adam', loss='sparse_categorical_crossentropy', metrics=['accuracy'])"
      ],
      "metadata": {
        "id": "s0RTgY_kLvty"
      },
      "execution_count": null,
      "outputs": []
    },
    {
      "cell_type": "code",
      "source": [
        "model.summary()"
      ],
      "metadata": {
        "colab": {
          "base_uri": "https://localhost:8080/",
          "height": 561
        },
        "id": "obx2YHkaOWY6",
        "outputId": "0fda0f1c-86a8-46d8-a3e5-d58447eeb1e8"
      },
      "execution_count": null,
      "outputs": [
        {
          "output_type": "display_data",
          "data": {
            "text/plain": [
              "\u001b[1mModel: \"sequential_2\"\u001b[0m\n"
            ],
            "text/html": [
              "<pre style=\"white-space:pre;overflow-x:auto;line-height:normal;font-family:Menlo,'DejaVu Sans Mono',consolas,'Courier New',monospace\"><span style=\"font-weight: bold\">Model: \"sequential_2\"</span>\n",
              "</pre>\n"
            ]
          },
          "metadata": {}
        },
        {
          "output_type": "display_data",
          "data": {
            "text/plain": [
              "┏━━━━━━━━━━━━━━━━━━━━━━━━━━━━━━━━━━━━━━┳━━━━━━━━━━━━━━━━━━━━━━━━━━━━━┳━━━━━━━━━━━━━━━━━┓\n",
              "┃\u001b[1m \u001b[0m\u001b[1mLayer (type)                        \u001b[0m\u001b[1m \u001b[0m┃\u001b[1m \u001b[0m\u001b[1mOutput Shape               \u001b[0m\u001b[1m \u001b[0m┃\u001b[1m \u001b[0m\u001b[1m        Param #\u001b[0m\u001b[1m \u001b[0m┃\n",
              "┡━━━━━━━━━━━━━━━━━━━━━━━━━━━━━━━━━━━━━━╇━━━━━━━━━━━━━━━━━━━━━━━━━━━━━╇━━━━━━━━━━━━━━━━━┩\n",
              "│ batch_normalization_2                │ (\u001b[38;5;45mNone\u001b[0m, \u001b[38;5;34m224\u001b[0m, \u001b[38;5;34m224\u001b[0m, \u001b[38;5;34m3\u001b[0m)         │              \u001b[38;5;34m12\u001b[0m │\n",
              "│ (\u001b[38;5;33mBatchNormalization\u001b[0m)                 │                             │                 │\n",
              "├──────────────────────────────────────┼─────────────────────────────┼─────────────────┤\n",
              "│ conv2d_6 (\u001b[38;5;33mConv2D\u001b[0m)                    │ (\u001b[38;5;45mNone\u001b[0m, \u001b[38;5;34m222\u001b[0m, \u001b[38;5;34m222\u001b[0m, \u001b[38;5;34m32\u001b[0m)        │             \u001b[38;5;34m896\u001b[0m │\n",
              "├──────────────────────────────────────┼─────────────────────────────┼─────────────────┤\n",
              "│ max_pooling2d_6 (\u001b[38;5;33mMaxPooling2D\u001b[0m)       │ (\u001b[38;5;45mNone\u001b[0m, \u001b[38;5;34m111\u001b[0m, \u001b[38;5;34m111\u001b[0m, \u001b[38;5;34m32\u001b[0m)        │               \u001b[38;5;34m0\u001b[0m │\n",
              "├──────────────────────────────────────┼─────────────────────────────┼─────────────────┤\n",
              "│ dropout (\u001b[38;5;33mDropout\u001b[0m)                    │ (\u001b[38;5;45mNone\u001b[0m, \u001b[38;5;34m111\u001b[0m, \u001b[38;5;34m111\u001b[0m, \u001b[38;5;34m32\u001b[0m)        │               \u001b[38;5;34m0\u001b[0m │\n",
              "├──────────────────────────────────────┼─────────────────────────────┼─────────────────┤\n",
              "│ conv2d_7 (\u001b[38;5;33mConv2D\u001b[0m)                    │ (\u001b[38;5;45mNone\u001b[0m, \u001b[38;5;34m109\u001b[0m, \u001b[38;5;34m109\u001b[0m, \u001b[38;5;34m64\u001b[0m)        │          \u001b[38;5;34m18,496\u001b[0m │\n",
              "├──────────────────────────────────────┼─────────────────────────────┼─────────────────┤\n",
              "│ max_pooling2d_7 (\u001b[38;5;33mMaxPooling2D\u001b[0m)       │ (\u001b[38;5;45mNone\u001b[0m, \u001b[38;5;34m54\u001b[0m, \u001b[38;5;34m54\u001b[0m, \u001b[38;5;34m64\u001b[0m)          │               \u001b[38;5;34m0\u001b[0m │\n",
              "├──────────────────────────────────────┼─────────────────────────────┼─────────────────┤\n",
              "│ dropout_1 (\u001b[38;5;33mDropout\u001b[0m)                  │ (\u001b[38;5;45mNone\u001b[0m, \u001b[38;5;34m54\u001b[0m, \u001b[38;5;34m54\u001b[0m, \u001b[38;5;34m64\u001b[0m)          │               \u001b[38;5;34m0\u001b[0m │\n",
              "├──────────────────────────────────────┼─────────────────────────────┼─────────────────┤\n",
              "│ conv2d_8 (\u001b[38;5;33mConv2D\u001b[0m)                    │ (\u001b[38;5;45mNone\u001b[0m, \u001b[38;5;34m52\u001b[0m, \u001b[38;5;34m52\u001b[0m, \u001b[38;5;34m128\u001b[0m)         │          \u001b[38;5;34m73,856\u001b[0m │\n",
              "├──────────────────────────────────────┼─────────────────────────────┼─────────────────┤\n",
              "│ max_pooling2d_8 (\u001b[38;5;33mMaxPooling2D\u001b[0m)       │ (\u001b[38;5;45mNone\u001b[0m, \u001b[38;5;34m26\u001b[0m, \u001b[38;5;34m26\u001b[0m, \u001b[38;5;34m128\u001b[0m)         │               \u001b[38;5;34m0\u001b[0m │\n",
              "├──────────────────────────────────────┼─────────────────────────────┼─────────────────┤\n",
              "│ flatten_2 (\u001b[38;5;33mFlatten\u001b[0m)                  │ (\u001b[38;5;45mNone\u001b[0m, \u001b[38;5;34m86528\u001b[0m)               │               \u001b[38;5;34m0\u001b[0m │\n",
              "├──────────────────────────────────────┼─────────────────────────────┼─────────────────┤\n",
              "│ dropout_2 (\u001b[38;5;33mDropout\u001b[0m)                  │ (\u001b[38;5;45mNone\u001b[0m, \u001b[38;5;34m86528\u001b[0m)               │               \u001b[38;5;34m0\u001b[0m │\n",
              "├──────────────────────────────────────┼─────────────────────────────┼─────────────────┤\n",
              "│ dense_4 (\u001b[38;5;33mDense\u001b[0m)                      │ (\u001b[38;5;45mNone\u001b[0m, \u001b[38;5;34m256\u001b[0m)                 │      \u001b[38;5;34m22,151,424\u001b[0m │\n",
              "├──────────────────────────────────────┼─────────────────────────────┼─────────────────┤\n",
              "│ dense_5 (\u001b[38;5;33mDense\u001b[0m)                      │ (\u001b[38;5;45mNone\u001b[0m, \u001b[38;5;34m3\u001b[0m)                   │             \u001b[38;5;34m771\u001b[0m │\n",
              "└──────────────────────────────────────┴─────────────────────────────┴─────────────────┘\n"
            ],
            "text/html": [
              "<pre style=\"white-space:pre;overflow-x:auto;line-height:normal;font-family:Menlo,'DejaVu Sans Mono',consolas,'Courier New',monospace\">┏━━━━━━━━━━━━━━━━━━━━━━━━━━━━━━━━━━━━━━┳━━━━━━━━━━━━━━━━━━━━━━━━━━━━━┳━━━━━━━━━━━━━━━━━┓\n",
              "┃<span style=\"font-weight: bold\"> Layer (type)                         </span>┃<span style=\"font-weight: bold\"> Output Shape                </span>┃<span style=\"font-weight: bold\">         Param # </span>┃\n",
              "┡━━━━━━━━━━━━━━━━━━━━━━━━━━━━━━━━━━━━━━╇━━━━━━━━━━━━━━━━━━━━━━━━━━━━━╇━━━━━━━━━━━━━━━━━┩\n",
              "│ batch_normalization_2                │ (<span style=\"color: #00d7ff; text-decoration-color: #00d7ff\">None</span>, <span style=\"color: #00af00; text-decoration-color: #00af00\">224</span>, <span style=\"color: #00af00; text-decoration-color: #00af00\">224</span>, <span style=\"color: #00af00; text-decoration-color: #00af00\">3</span>)         │              <span style=\"color: #00af00; text-decoration-color: #00af00\">12</span> │\n",
              "│ (<span style=\"color: #0087ff; text-decoration-color: #0087ff\">BatchNormalization</span>)                 │                             │                 │\n",
              "├──────────────────────────────────────┼─────────────────────────────┼─────────────────┤\n",
              "│ conv2d_6 (<span style=\"color: #0087ff; text-decoration-color: #0087ff\">Conv2D</span>)                    │ (<span style=\"color: #00d7ff; text-decoration-color: #00d7ff\">None</span>, <span style=\"color: #00af00; text-decoration-color: #00af00\">222</span>, <span style=\"color: #00af00; text-decoration-color: #00af00\">222</span>, <span style=\"color: #00af00; text-decoration-color: #00af00\">32</span>)        │             <span style=\"color: #00af00; text-decoration-color: #00af00\">896</span> │\n",
              "├──────────────────────────────────────┼─────────────────────────────┼─────────────────┤\n",
              "│ max_pooling2d_6 (<span style=\"color: #0087ff; text-decoration-color: #0087ff\">MaxPooling2D</span>)       │ (<span style=\"color: #00d7ff; text-decoration-color: #00d7ff\">None</span>, <span style=\"color: #00af00; text-decoration-color: #00af00\">111</span>, <span style=\"color: #00af00; text-decoration-color: #00af00\">111</span>, <span style=\"color: #00af00; text-decoration-color: #00af00\">32</span>)        │               <span style=\"color: #00af00; text-decoration-color: #00af00\">0</span> │\n",
              "├──────────────────────────────────────┼─────────────────────────────┼─────────────────┤\n",
              "│ dropout (<span style=\"color: #0087ff; text-decoration-color: #0087ff\">Dropout</span>)                    │ (<span style=\"color: #00d7ff; text-decoration-color: #00d7ff\">None</span>, <span style=\"color: #00af00; text-decoration-color: #00af00\">111</span>, <span style=\"color: #00af00; text-decoration-color: #00af00\">111</span>, <span style=\"color: #00af00; text-decoration-color: #00af00\">32</span>)        │               <span style=\"color: #00af00; text-decoration-color: #00af00\">0</span> │\n",
              "├──────────────────────────────────────┼─────────────────────────────┼─────────────────┤\n",
              "│ conv2d_7 (<span style=\"color: #0087ff; text-decoration-color: #0087ff\">Conv2D</span>)                    │ (<span style=\"color: #00d7ff; text-decoration-color: #00d7ff\">None</span>, <span style=\"color: #00af00; text-decoration-color: #00af00\">109</span>, <span style=\"color: #00af00; text-decoration-color: #00af00\">109</span>, <span style=\"color: #00af00; text-decoration-color: #00af00\">64</span>)        │          <span style=\"color: #00af00; text-decoration-color: #00af00\">18,496</span> │\n",
              "├──────────────────────────────────────┼─────────────────────────────┼─────────────────┤\n",
              "│ max_pooling2d_7 (<span style=\"color: #0087ff; text-decoration-color: #0087ff\">MaxPooling2D</span>)       │ (<span style=\"color: #00d7ff; text-decoration-color: #00d7ff\">None</span>, <span style=\"color: #00af00; text-decoration-color: #00af00\">54</span>, <span style=\"color: #00af00; text-decoration-color: #00af00\">54</span>, <span style=\"color: #00af00; text-decoration-color: #00af00\">64</span>)          │               <span style=\"color: #00af00; text-decoration-color: #00af00\">0</span> │\n",
              "├──────────────────────────────────────┼─────────────────────────────┼─────────────────┤\n",
              "│ dropout_1 (<span style=\"color: #0087ff; text-decoration-color: #0087ff\">Dropout</span>)                  │ (<span style=\"color: #00d7ff; text-decoration-color: #00d7ff\">None</span>, <span style=\"color: #00af00; text-decoration-color: #00af00\">54</span>, <span style=\"color: #00af00; text-decoration-color: #00af00\">54</span>, <span style=\"color: #00af00; text-decoration-color: #00af00\">64</span>)          │               <span style=\"color: #00af00; text-decoration-color: #00af00\">0</span> │\n",
              "├──────────────────────────────────────┼─────────────────────────────┼─────────────────┤\n",
              "│ conv2d_8 (<span style=\"color: #0087ff; text-decoration-color: #0087ff\">Conv2D</span>)                    │ (<span style=\"color: #00d7ff; text-decoration-color: #00d7ff\">None</span>, <span style=\"color: #00af00; text-decoration-color: #00af00\">52</span>, <span style=\"color: #00af00; text-decoration-color: #00af00\">52</span>, <span style=\"color: #00af00; text-decoration-color: #00af00\">128</span>)         │          <span style=\"color: #00af00; text-decoration-color: #00af00\">73,856</span> │\n",
              "├──────────────────────────────────────┼─────────────────────────────┼─────────────────┤\n",
              "│ max_pooling2d_8 (<span style=\"color: #0087ff; text-decoration-color: #0087ff\">MaxPooling2D</span>)       │ (<span style=\"color: #00d7ff; text-decoration-color: #00d7ff\">None</span>, <span style=\"color: #00af00; text-decoration-color: #00af00\">26</span>, <span style=\"color: #00af00; text-decoration-color: #00af00\">26</span>, <span style=\"color: #00af00; text-decoration-color: #00af00\">128</span>)         │               <span style=\"color: #00af00; text-decoration-color: #00af00\">0</span> │\n",
              "├──────────────────────────────────────┼─────────────────────────────┼─────────────────┤\n",
              "│ flatten_2 (<span style=\"color: #0087ff; text-decoration-color: #0087ff\">Flatten</span>)                  │ (<span style=\"color: #00d7ff; text-decoration-color: #00d7ff\">None</span>, <span style=\"color: #00af00; text-decoration-color: #00af00\">86528</span>)               │               <span style=\"color: #00af00; text-decoration-color: #00af00\">0</span> │\n",
              "├──────────────────────────────────────┼─────────────────────────────┼─────────────────┤\n",
              "│ dropout_2 (<span style=\"color: #0087ff; text-decoration-color: #0087ff\">Dropout</span>)                  │ (<span style=\"color: #00d7ff; text-decoration-color: #00d7ff\">None</span>, <span style=\"color: #00af00; text-decoration-color: #00af00\">86528</span>)               │               <span style=\"color: #00af00; text-decoration-color: #00af00\">0</span> │\n",
              "├──────────────────────────────────────┼─────────────────────────────┼─────────────────┤\n",
              "│ dense_4 (<span style=\"color: #0087ff; text-decoration-color: #0087ff\">Dense</span>)                      │ (<span style=\"color: #00d7ff; text-decoration-color: #00d7ff\">None</span>, <span style=\"color: #00af00; text-decoration-color: #00af00\">256</span>)                 │      <span style=\"color: #00af00; text-decoration-color: #00af00\">22,151,424</span> │\n",
              "├──────────────────────────────────────┼─────────────────────────────┼─────────────────┤\n",
              "│ dense_5 (<span style=\"color: #0087ff; text-decoration-color: #0087ff\">Dense</span>)                      │ (<span style=\"color: #00d7ff; text-decoration-color: #00d7ff\">None</span>, <span style=\"color: #00af00; text-decoration-color: #00af00\">3</span>)                   │             <span style=\"color: #00af00; text-decoration-color: #00af00\">771</span> │\n",
              "└──────────────────────────────────────┴─────────────────────────────┴─────────────────┘\n",
              "</pre>\n"
            ]
          },
          "metadata": {}
        },
        {
          "output_type": "display_data",
          "data": {
            "text/plain": [
              "\u001b[1m Total params: \u001b[0m\u001b[38;5;34m22,245,455\u001b[0m (84.86 MB)\n"
            ],
            "text/html": [
              "<pre style=\"white-space:pre;overflow-x:auto;line-height:normal;font-family:Menlo,'DejaVu Sans Mono',consolas,'Courier New',monospace\"><span style=\"font-weight: bold\"> Total params: </span><span style=\"color: #00af00; text-decoration-color: #00af00\">22,245,455</span> (84.86 MB)\n",
              "</pre>\n"
            ]
          },
          "metadata": {}
        },
        {
          "output_type": "display_data",
          "data": {
            "text/plain": [
              "\u001b[1m Trainable params: \u001b[0m\u001b[38;5;34m22,245,449\u001b[0m (84.86 MB)\n"
            ],
            "text/html": [
              "<pre style=\"white-space:pre;overflow-x:auto;line-height:normal;font-family:Menlo,'DejaVu Sans Mono',consolas,'Courier New',monospace\"><span style=\"font-weight: bold\"> Trainable params: </span><span style=\"color: #00af00; text-decoration-color: #00af00\">22,245,449</span> (84.86 MB)\n",
              "</pre>\n"
            ]
          },
          "metadata": {}
        },
        {
          "output_type": "display_data",
          "data": {
            "text/plain": [
              "\u001b[1m Non-trainable params: \u001b[0m\u001b[38;5;34m6\u001b[0m (24.00 B)\n"
            ],
            "text/html": [
              "<pre style=\"white-space:pre;overflow-x:auto;line-height:normal;font-family:Menlo,'DejaVu Sans Mono',consolas,'Courier New',monospace\"><span style=\"font-weight: bold\"> Non-trainable params: </span><span style=\"color: #00af00; text-decoration-color: #00af00\">6</span> (24.00 B)\n",
              "</pre>\n"
            ]
          },
          "metadata": {}
        }
      ]
    },
    {
      "cell_type": "code",
      "source": [
        "print('GPU name: ', tf.config.experimental.list_physical_devices('GPU'))\n",
        "print(\"Num GPUs Available: \", len(tf.config.experimental.list_physical_devices('GPU')))"
      ],
      "metadata": {
        "colab": {
          "base_uri": "https://localhost:8080/"
        },
        "id": "Z64hf3MC_DEi",
        "outputId": "5281f914-bee7-4bb8-a78a-9647b68297eb"
      },
      "execution_count": null,
      "outputs": [
        {
          "output_type": "stream",
          "name": "stdout",
          "text": [
            "GPU name:  [PhysicalDevice(name='/physical_device:GPU:0', device_type='GPU')]\n",
            "Num GPUs Available:  1\n"
          ]
        }
      ]
    },
    {
      "cell_type": "code",
      "source": [
        "history = model.fit(train_dest, validation_data=valid_dset, epochs=200)"
      ],
      "metadata": {
        "colab": {
          "base_uri": "https://localhost:8080/"
        },
        "id": "fYvgS99BMwqB",
        "outputId": "d839dddc-b63d-4692-fdd3-254a1b262216"
      },
      "execution_count": null,
      "outputs": [
        {
          "output_type": "stream",
          "name": "stdout",
          "text": [
            "Epoch 1/200\n",
            "\u001b[1m34/34\u001b[0m \u001b[32m━━━━━━━━━━━━━━━━━━━━\u001b[0m\u001b[37m\u001b[0m \u001b[1m11s\u001b[0m 166ms/step - accuracy: 0.5162 - loss: 5.1445 - val_accuracy: 0.6548 - val_loss: 1.0350\n",
            "Epoch 2/200\n",
            "\u001b[1m34/34\u001b[0m \u001b[32m━━━━━━━━━━━━━━━━━━━━\u001b[0m\u001b[37m\u001b[0m \u001b[1m2s\u001b[0m 26ms/step - accuracy: 0.6324 - loss: 0.9185 - val_accuracy: 0.6548 - val_loss: 0.9827\n",
            "Epoch 3/200\n",
            "\u001b[1m34/34\u001b[0m \u001b[32m━━━━━━━━━━━━━━━━━━━━\u001b[0m\u001b[37m\u001b[0m \u001b[1m1s\u001b[0m 24ms/step - accuracy: 0.6725 - loss: 0.8330 - val_accuracy: 0.6190 - val_loss: 0.9980\n",
            "Epoch 4/200\n",
            "\u001b[1m34/34\u001b[0m \u001b[32m━━━━━━━━━━━━━━━━━━━━\u001b[0m\u001b[37m\u001b[0m \u001b[1m1s\u001b[0m 26ms/step - accuracy: 0.6570 - loss: 0.8212 - val_accuracy: 0.6190 - val_loss: 0.8600\n",
            "Epoch 5/200\n",
            "\u001b[1m34/34\u001b[0m \u001b[32m━━━━━━━━━━━━━━━━━━━━\u001b[0m\u001b[37m\u001b[0m \u001b[1m1s\u001b[0m 27ms/step - accuracy: 0.7355 - loss: 0.6435 - val_accuracy: 0.6786 - val_loss: 0.9657\n",
            "Epoch 6/200\n",
            "\u001b[1m34/34\u001b[0m \u001b[32m━━━━━━━━━━━━━━━━━━━━\u001b[0m\u001b[37m\u001b[0m \u001b[1m1s\u001b[0m 25ms/step - accuracy: 0.7533 - loss: 0.5673 - val_accuracy: 0.5833 - val_loss: 0.9903\n",
            "Epoch 7/200\n",
            "\u001b[1m34/34\u001b[0m \u001b[32m━━━━━━━━━━━━━━━━━━━━\u001b[0m\u001b[37m\u001b[0m \u001b[1m1s\u001b[0m 26ms/step - accuracy: 0.8766 - loss: 0.2897 - val_accuracy: 0.5000 - val_loss: 1.2773\n",
            "Epoch 8/200\n",
            "\u001b[1m34/34\u001b[0m \u001b[32m━━━━━━━━━━━━━━━━━━━━\u001b[0m\u001b[37m\u001b[0m \u001b[1m1s\u001b[0m 26ms/step - accuracy: 0.9366 - loss: 0.2465 - val_accuracy: 0.5119 - val_loss: 1.5496\n",
            "Epoch 9/200\n",
            "\u001b[1m34/34\u001b[0m \u001b[32m━━━━━━━━━━━━━━━━━━━━\u001b[0m\u001b[37m\u001b[0m \u001b[1m1s\u001b[0m 25ms/step - accuracy: 0.9198 - loss: 0.3146 - val_accuracy: 0.5476 - val_loss: 2.0005\n",
            "Epoch 10/200\n",
            "\u001b[1m34/34\u001b[0m \u001b[32m━━━━━━━━━━━━━━━━━━━━\u001b[0m\u001b[37m\u001b[0m \u001b[1m1s\u001b[0m 29ms/step - accuracy: 0.9319 - loss: 0.1998 - val_accuracy: 0.5119 - val_loss: 1.7719\n",
            "Epoch 11/200\n",
            "\u001b[1m34/34\u001b[0m \u001b[32m━━━━━━━━━━━━━━━━━━━━\u001b[0m\u001b[37m\u001b[0m \u001b[1m1s\u001b[0m 29ms/step - accuracy: 0.9500 - loss: 0.1787 - val_accuracy: 0.5714 - val_loss: 1.6500\n",
            "Epoch 12/200\n",
            "\u001b[1m34/34\u001b[0m \u001b[32m━━━━━━━━━━━━━━━━━━━━\u001b[0m\u001b[37m\u001b[0m \u001b[1m1s\u001b[0m 27ms/step - accuracy: 0.9345 - loss: 0.2036 - val_accuracy: 0.5357 - val_loss: 1.8715\n",
            "Epoch 13/200\n",
            "\u001b[1m34/34\u001b[0m \u001b[32m━━━━━━━━━━━━━━━━━━━━\u001b[0m\u001b[37m\u001b[0m \u001b[1m1s\u001b[0m 27ms/step - accuracy: 0.9441 - loss: 0.1688 - val_accuracy: 0.5238 - val_loss: 2.1686\n",
            "Epoch 14/200\n",
            "\u001b[1m34/34\u001b[0m \u001b[32m━━━━━━━━━━━━━━━━━━━━\u001b[0m\u001b[37m\u001b[0m \u001b[1m1s\u001b[0m 24ms/step - accuracy: 0.9301 - loss: 0.1544 - val_accuracy: 0.5476 - val_loss: 1.7465\n",
            "Epoch 15/200\n",
            "\u001b[1m34/34\u001b[0m \u001b[32m━━━━━━━━━━━━━━━━━━━━\u001b[0m\u001b[37m\u001b[0m \u001b[1m1s\u001b[0m 24ms/step - accuracy: 0.9702 - loss: 0.1234 - val_accuracy: 0.6071 - val_loss: 2.0665\n",
            "Epoch 16/200\n",
            "\u001b[1m34/34\u001b[0m \u001b[32m━━━━━━━━━━━━━━━━━━━━\u001b[0m\u001b[37m\u001b[0m \u001b[1m1s\u001b[0m 25ms/step - accuracy: 0.9604 - loss: 0.1195 - val_accuracy: 0.5119 - val_loss: 2.6407\n",
            "Epoch 17/200\n",
            "\u001b[1m34/34\u001b[0m \u001b[32m━━━━━━━━━━━━━━━━━━━━\u001b[0m\u001b[37m\u001b[0m \u001b[1m1s\u001b[0m 24ms/step - accuracy: 0.9483 - loss: 0.1006 - val_accuracy: 0.5476 - val_loss: 1.7028\n",
            "Epoch 18/200\n",
            "\u001b[1m34/34\u001b[0m \u001b[32m━━━━━━━━━━━━━━━━━━━━\u001b[0m\u001b[37m\u001b[0m \u001b[1m1s\u001b[0m 24ms/step - accuracy: 0.9591 - loss: 0.0990 - val_accuracy: 0.5357 - val_loss: 1.7627\n",
            "Epoch 19/200\n",
            "\u001b[1m34/34\u001b[0m \u001b[32m━━━━━━━━━━━━━━━━━━━━\u001b[0m\u001b[37m\u001b[0m \u001b[1m1s\u001b[0m 24ms/step - accuracy: 0.9666 - loss: 0.0884 - val_accuracy: 0.5357 - val_loss: 1.8590\n",
            "Epoch 20/200\n",
            "\u001b[1m34/34\u001b[0m \u001b[32m━━━━━━━━━━━━━━━━━━━━\u001b[0m\u001b[37m\u001b[0m \u001b[1m1s\u001b[0m 26ms/step - accuracy: 0.9777 - loss: 0.0739 - val_accuracy: 0.5119 - val_loss: 1.8812\n",
            "Epoch 21/200\n",
            "\u001b[1m34/34\u001b[0m \u001b[32m━━━━━━━━━━━━━━━━━━━━\u001b[0m\u001b[37m\u001b[0m \u001b[1m1s\u001b[0m 28ms/step - accuracy: 0.9504 - loss: 0.0930 - val_accuracy: 0.5119 - val_loss: 1.7663\n",
            "Epoch 22/200\n",
            "\u001b[1m34/34\u001b[0m \u001b[32m━━━━━━━━━━━━━━━━━━━━\u001b[0m\u001b[37m\u001b[0m \u001b[1m1s\u001b[0m 28ms/step - accuracy: 0.9588 - loss: 0.0714 - val_accuracy: 0.5357 - val_loss: 1.7323\n",
            "Epoch 23/200\n",
            "\u001b[1m34/34\u001b[0m \u001b[32m━━━━━━━━━━━━━━━━━━━━\u001b[0m\u001b[37m\u001b[0m \u001b[1m1s\u001b[0m 28ms/step - accuracy: 0.9571 - loss: 0.0949 - val_accuracy: 0.5476 - val_loss: 1.5126\n",
            "Epoch 24/200\n",
            "\u001b[1m34/34\u001b[0m \u001b[32m━━━━━━━━━━━━━━━━━━━━\u001b[0m\u001b[37m\u001b[0m \u001b[1m1s\u001b[0m 25ms/step - accuracy: 0.9576 - loss: 0.0698 - val_accuracy: 0.5952 - val_loss: 1.7527\n",
            "Epoch 25/200\n",
            "\u001b[1m34/34\u001b[0m \u001b[32m━━━━━━━━━━━━━━━━━━━━\u001b[0m\u001b[37m\u001b[0m \u001b[1m1s\u001b[0m 25ms/step - accuracy: 0.9586 - loss: 0.0695 - val_accuracy: 0.5595 - val_loss: 1.7144\n",
            "Epoch 26/200\n",
            "\u001b[1m34/34\u001b[0m \u001b[32m━━━━━━━━━━━━━━━━━━━━\u001b[0m\u001b[37m\u001b[0m \u001b[1m1s\u001b[0m 24ms/step - accuracy: 0.9537 - loss: 0.0716 - val_accuracy: 0.5238 - val_loss: 1.6874\n",
            "Epoch 27/200\n",
            "\u001b[1m34/34\u001b[0m \u001b[32m━━━━━━━━━━━━━━━━━━━━\u001b[0m\u001b[37m\u001b[0m \u001b[1m1s\u001b[0m 24ms/step - accuracy: 0.9574 - loss: 0.0714 - val_accuracy: 0.5833 - val_loss: 2.0020\n",
            "Epoch 28/200\n",
            "\u001b[1m34/34\u001b[0m \u001b[32m━━━━━━━━━━━━━━━━━━━━\u001b[0m\u001b[37m\u001b[0m \u001b[1m1s\u001b[0m 25ms/step - accuracy: 0.9603 - loss: 0.0678 - val_accuracy: 0.5476 - val_loss: 1.4521\n",
            "Epoch 29/200\n",
            "\u001b[1m34/34\u001b[0m \u001b[32m━━━━━━━━━━━━━━━━━━━━\u001b[0m\u001b[37m\u001b[0m \u001b[1m1s\u001b[0m 25ms/step - accuracy: 0.9724 - loss: 0.0547 - val_accuracy: 0.5476 - val_loss: 1.8912\n",
            "Epoch 30/200\n",
            "\u001b[1m34/34\u001b[0m \u001b[32m━━━━━━━━━━━━━━━━━━━━\u001b[0m\u001b[37m\u001b[0m \u001b[1m1s\u001b[0m 25ms/step - accuracy: 0.9642 - loss: 0.0666 - val_accuracy: 0.5833 - val_loss: 1.8554\n",
            "Epoch 31/200\n",
            "\u001b[1m34/34\u001b[0m \u001b[32m━━━━━━━━━━━━━━━━━━━━\u001b[0m\u001b[37m\u001b[0m \u001b[1m1s\u001b[0m 25ms/step - accuracy: 0.9701 - loss: 0.0560 - val_accuracy: 0.6190 - val_loss: 1.7549\n",
            "Epoch 32/200\n",
            "\u001b[1m34/34\u001b[0m \u001b[32m━━━━━━━━━━━━━━━━━━━━\u001b[0m\u001b[37m\u001b[0m \u001b[1m1s\u001b[0m 26ms/step - accuracy: 0.9607 - loss: 0.0558 - val_accuracy: 0.5714 - val_loss: 1.9200\n",
            "Epoch 33/200\n",
            "\u001b[1m34/34\u001b[0m \u001b[32m━━━━━━━━━━━━━━━━━━━━\u001b[0m\u001b[37m\u001b[0m \u001b[1m1s\u001b[0m 28ms/step - accuracy: 0.9742 - loss: 0.0464 - val_accuracy: 0.5833 - val_loss: 1.5396\n",
            "Epoch 34/200\n",
            "\u001b[1m34/34\u001b[0m \u001b[32m━━━━━━━━━━━━━━━━━━━━\u001b[0m\u001b[37m\u001b[0m \u001b[1m1s\u001b[0m 30ms/step - accuracy: 0.9481 - loss: 0.0667 - val_accuracy: 0.5357 - val_loss: 1.9080\n",
            "Epoch 35/200\n",
            "\u001b[1m34/34\u001b[0m \u001b[32m━━━━━━━━━━━━━━━━━━━━\u001b[0m\u001b[37m\u001b[0m \u001b[1m1s\u001b[0m 24ms/step - accuracy: 0.9701 - loss: 0.0504 - val_accuracy: 0.5714 - val_loss: 1.7799\n",
            "Epoch 36/200\n",
            "\u001b[1m34/34\u001b[0m \u001b[32m━━━━━━━━━━━━━━━━━━━━\u001b[0m\u001b[37m\u001b[0m \u001b[1m1s\u001b[0m 25ms/step - accuracy: 0.9602 - loss: 0.0538 - val_accuracy: 0.6071 - val_loss: 2.0023\n",
            "Epoch 37/200\n",
            "\u001b[1m34/34\u001b[0m \u001b[32m━━━━━━━━━━━━━━━━━━━━\u001b[0m\u001b[37m\u001b[0m \u001b[1m1s\u001b[0m 24ms/step - accuracy: 0.9536 - loss: 0.0699 - val_accuracy: 0.5238 - val_loss: 1.8406\n",
            "Epoch 38/200\n",
            "\u001b[1m34/34\u001b[0m \u001b[32m━━━━━━━━━━━━━━━━━━━━\u001b[0m\u001b[37m\u001b[0m \u001b[1m1s\u001b[0m 24ms/step - accuracy: 0.9556 - loss: 0.0515 - val_accuracy: 0.5476 - val_loss: 1.6100\n",
            "Epoch 39/200\n",
            "\u001b[1m34/34\u001b[0m \u001b[32m━━━━━━━━━━━━━━━━━━━━\u001b[0m\u001b[37m\u001b[0m \u001b[1m1s\u001b[0m 25ms/step - accuracy: 0.9775 - loss: 0.0442 - val_accuracy: 0.5119 - val_loss: 2.1509\n",
            "Epoch 40/200\n",
            "\u001b[1m34/34\u001b[0m \u001b[32m━━━━━━━━━━━━━━━━━━━━\u001b[0m\u001b[37m\u001b[0m \u001b[1m1s\u001b[0m 26ms/step - accuracy: 0.9588 - loss: 0.0649 - val_accuracy: 0.5952 - val_loss: 1.6704\n",
            "Epoch 41/200\n",
            "\u001b[1m34/34\u001b[0m \u001b[32m━━━━━━━━━━━━━━━━━━━━\u001b[0m\u001b[37m\u001b[0m \u001b[1m1s\u001b[0m 26ms/step - accuracy: 0.9760 - loss: 0.0461 - val_accuracy: 0.5476 - val_loss: 2.2499\n",
            "Epoch 42/200\n",
            "\u001b[1m34/34\u001b[0m \u001b[32m━━━━━━━━━━━━━━━━━━━━\u001b[0m\u001b[37m\u001b[0m \u001b[1m1s\u001b[0m 25ms/step - accuracy: 0.9447 - loss: 0.0746 - val_accuracy: 0.5357 - val_loss: 1.6009\n",
            "Epoch 43/200\n",
            "\u001b[1m34/34\u001b[0m \u001b[32m━━━━━━━━━━━━━━━━━━━━\u001b[0m\u001b[37m\u001b[0m \u001b[1m1s\u001b[0m 27ms/step - accuracy: 0.9708 - loss: 0.0492 - val_accuracy: 0.5357 - val_loss: 1.8305\n",
            "Epoch 44/200\n",
            "\u001b[1m34/34\u001b[0m \u001b[32m━━━━━━━━━━━━━━━━━━━━\u001b[0m\u001b[37m\u001b[0m \u001b[1m1s\u001b[0m 28ms/step - accuracy: 0.9624 - loss: 0.0517 - val_accuracy: 0.5595 - val_loss: 1.6976\n",
            "Epoch 45/200\n",
            "\u001b[1m34/34\u001b[0m \u001b[32m━━━━━━━━━━━━━━━━━━━━\u001b[0m\u001b[37m\u001b[0m \u001b[1m1s\u001b[0m 30ms/step - accuracy: 0.9674 - loss: 0.0483 - val_accuracy: 0.5595 - val_loss: 1.9598\n",
            "Epoch 46/200\n",
            "\u001b[1m34/34\u001b[0m \u001b[32m━━━━━━━━━━━━━━━━━━━━\u001b[0m\u001b[37m\u001b[0m \u001b[1m1s\u001b[0m 25ms/step - accuracy: 0.9558 - loss: 0.0577 - val_accuracy: 0.5714 - val_loss: 1.6692\n",
            "Epoch 47/200\n",
            "\u001b[1m34/34\u001b[0m \u001b[32m━━━━━━━━━━━━━━━━━━━━\u001b[0m\u001b[37m\u001b[0m \u001b[1m1s\u001b[0m 24ms/step - accuracy: 0.9681 - loss: 0.0667 - val_accuracy: 0.5714 - val_loss: 2.0114\n",
            "Epoch 48/200\n",
            "\u001b[1m34/34\u001b[0m \u001b[32m━━━━━━━━━━━━━━━━━━━━\u001b[0m\u001b[37m\u001b[0m \u001b[1m1s\u001b[0m 24ms/step - accuracy: 0.9697 - loss: 0.0463 - val_accuracy: 0.5833 - val_loss: 1.6946\n",
            "Epoch 49/200\n",
            "\u001b[1m34/34\u001b[0m \u001b[32m━━━━━━━━━━━━━━━━━━━━\u001b[0m\u001b[37m\u001b[0m \u001b[1m1s\u001b[0m 26ms/step - accuracy: 0.9642 - loss: 0.0570 - val_accuracy: 0.5238 - val_loss: 2.0271\n",
            "Epoch 50/200\n",
            "\u001b[1m34/34\u001b[0m \u001b[32m━━━━━━━━━━━━━━━━━━━━\u001b[0m\u001b[37m\u001b[0m \u001b[1m1s\u001b[0m 27ms/step - accuracy: 0.9692 - loss: 0.0498 - val_accuracy: 0.5833 - val_loss: 1.6667\n",
            "Epoch 51/200\n",
            "\u001b[1m34/34\u001b[0m \u001b[32m━━━━━━━━━━━━━━━━━━━━\u001b[0m\u001b[37m\u001b[0m \u001b[1m1s\u001b[0m 24ms/step - accuracy: 0.9634 - loss: 0.0562 - val_accuracy: 0.5595 - val_loss: 1.9823\n",
            "Epoch 52/200\n",
            "\u001b[1m34/34\u001b[0m \u001b[32m━━━━━━━━━━━━━━━━━━━━\u001b[0m\u001b[37m\u001b[0m \u001b[1m1s\u001b[0m 25ms/step - accuracy: 0.9501 - loss: 0.0566 - val_accuracy: 0.5714 - val_loss: 1.8546\n",
            "Epoch 53/200\n",
            "\u001b[1m34/34\u001b[0m \u001b[32m━━━━━━━━━━━━━━━━━━━━\u001b[0m\u001b[37m\u001b[0m \u001b[1m1s\u001b[0m 25ms/step - accuracy: 0.9545 - loss: 0.0524 - val_accuracy: 0.5833 - val_loss: 1.8336\n",
            "Epoch 54/200\n",
            "\u001b[1m34/34\u001b[0m \u001b[32m━━━━━━━━━━━━━━━━━━━━\u001b[0m\u001b[37m\u001b[0m \u001b[1m1s\u001b[0m 29ms/step - accuracy: 0.9559 - loss: 0.0726 - val_accuracy: 0.6190 - val_loss: 1.9968\n",
            "Epoch 55/200\n",
            "\u001b[1m34/34\u001b[0m \u001b[32m━━━━━━━━━━━━━━━━━━━━\u001b[0m\u001b[37m\u001b[0m \u001b[1m1s\u001b[0m 35ms/step - accuracy: 0.9601 - loss: 0.0481 - val_accuracy: 0.5833 - val_loss: 1.6678\n",
            "Epoch 56/200\n",
            "\u001b[1m34/34\u001b[0m \u001b[32m━━━━━━━━━━━━━━━━━━━━\u001b[0m\u001b[37m\u001b[0m \u001b[1m1s\u001b[0m 25ms/step - accuracy: 0.9667 - loss: 0.0427 - val_accuracy: 0.5952 - val_loss: 2.1491\n",
            "Epoch 57/200\n",
            "\u001b[1m34/34\u001b[0m \u001b[32m━━━━━━━━━━━━━━━━━━━━\u001b[0m\u001b[37m\u001b[0m \u001b[1m1s\u001b[0m 25ms/step - accuracy: 0.9487 - loss: 0.0649 - val_accuracy: 0.5833 - val_loss: 1.8038\n",
            "Epoch 58/200\n",
            "\u001b[1m34/34\u001b[0m \u001b[32m━━━━━━━━━━━━━━━━━━━━\u001b[0m\u001b[37m\u001b[0m \u001b[1m1s\u001b[0m 26ms/step - accuracy: 0.9547 - loss: 0.0482 - val_accuracy: 0.5952 - val_loss: 1.6539\n",
            "Epoch 59/200\n",
            "\u001b[1m34/34\u001b[0m \u001b[32m━━━━━━━━━━━━━━━━━━━━\u001b[0m\u001b[37m\u001b[0m \u001b[1m1s\u001b[0m 25ms/step - accuracy: 0.9781 - loss: 0.0416 - val_accuracy: 0.5357 - val_loss: 2.1375\n",
            "Epoch 60/200\n",
            "\u001b[1m34/34\u001b[0m \u001b[32m━━━━━━━━━━━━━━━━━━━━\u001b[0m\u001b[37m\u001b[0m \u001b[1m1s\u001b[0m 26ms/step - accuracy: 0.9712 - loss: 0.0499 - val_accuracy: 0.5833 - val_loss: 1.8451\n",
            "Epoch 61/200\n",
            "\u001b[1m34/34\u001b[0m \u001b[32m━━━━━━━━━━━━━━━━━━━━\u001b[0m\u001b[37m\u001b[0m \u001b[1m1s\u001b[0m 26ms/step - accuracy: 0.9579 - loss: 0.0566 - val_accuracy: 0.5595 - val_loss: 1.8579\n",
            "Epoch 62/200\n",
            "\u001b[1m34/34\u001b[0m \u001b[32m━━━━━━━━━━━━━━━━━━━━\u001b[0m\u001b[37m\u001b[0m \u001b[1m1s\u001b[0m 26ms/step - accuracy: 0.9754 - loss: 0.0478 - val_accuracy: 0.5119 - val_loss: 1.7287\n",
            "Epoch 63/200\n",
            "\u001b[1m34/34\u001b[0m \u001b[32m━━━━━━━━━━━━━━━━━━━━\u001b[0m\u001b[37m\u001b[0m \u001b[1m1s\u001b[0m 26ms/step - accuracy: 0.9566 - loss: 0.0544 - val_accuracy: 0.5238 - val_loss: 2.1586\n",
            "Epoch 64/200\n",
            "\u001b[1m34/34\u001b[0m \u001b[32m━━━━━━━━━━━━━━━━━━━━\u001b[0m\u001b[37m\u001b[0m \u001b[1m1s\u001b[0m 30ms/step - accuracy: 0.9561 - loss: 0.0500 - val_accuracy: 0.5714 - val_loss: 1.9819\n",
            "Epoch 65/200\n",
            "\u001b[1m34/34\u001b[0m \u001b[32m━━━━━━━━━━━━━━━━━━━━\u001b[0m\u001b[37m\u001b[0m \u001b[1m1s\u001b[0m 29ms/step - accuracy: 0.9788 - loss: 0.0436 - val_accuracy: 0.5952 - val_loss: 1.6179\n",
            "Epoch 66/200\n",
            "\u001b[1m34/34\u001b[0m \u001b[32m━━━━━━━━━━━━━━━━━━━━\u001b[0m\u001b[37m\u001b[0m \u001b[1m1s\u001b[0m 27ms/step - accuracy: 0.9761 - loss: 0.0438 - val_accuracy: 0.5952 - val_loss: 2.3784\n",
            "Epoch 67/200\n",
            "\u001b[1m34/34\u001b[0m \u001b[32m━━━━━━━━━━━━━━━━━━━━\u001b[0m\u001b[37m\u001b[0m \u001b[1m1s\u001b[0m 25ms/step - accuracy: 0.9519 - loss: 0.0841 - val_accuracy: 0.5357 - val_loss: 1.8804\n",
            "Epoch 68/200\n",
            "\u001b[1m34/34\u001b[0m \u001b[32m━━━━━━━━━━━━━━━━━━━━\u001b[0m\u001b[37m\u001b[0m \u001b[1m1s\u001b[0m 25ms/step - accuracy: 0.9523 - loss: 0.0550 - val_accuracy: 0.5238 - val_loss: 2.0294\n",
            "Epoch 69/200\n",
            "\u001b[1m34/34\u001b[0m \u001b[32m━━━━━━━━━━━━━━━━━━━━\u001b[0m\u001b[37m\u001b[0m \u001b[1m1s\u001b[0m 26ms/step - accuracy: 0.9549 - loss: 0.0550 - val_accuracy: 0.5476 - val_loss: 1.7661\n",
            "Epoch 70/200\n",
            "\u001b[1m34/34\u001b[0m \u001b[32m━━━━━━━━━━━━━━━━━━━━\u001b[0m\u001b[37m\u001b[0m \u001b[1m1s\u001b[0m 26ms/step - accuracy: 0.9442 - loss: 0.0557 - val_accuracy: 0.5833 - val_loss: 1.9091\n",
            "Epoch 71/200\n",
            "\u001b[1m34/34\u001b[0m \u001b[32m━━━━━━━━━━━━━━━━━━━━\u001b[0m\u001b[37m\u001b[0m \u001b[1m1s\u001b[0m 24ms/step - accuracy: 0.9805 - loss: 0.0418 - val_accuracy: 0.5714 - val_loss: 2.1358\n",
            "Epoch 72/200\n",
            "\u001b[1m34/34\u001b[0m \u001b[32m━━━━━━━━━━━━━━━━━━━━\u001b[0m\u001b[37m\u001b[0m \u001b[1m1s\u001b[0m 25ms/step - accuracy: 0.9662 - loss: 0.0445 - val_accuracy: 0.5714 - val_loss: 1.9940\n",
            "Epoch 73/200\n",
            "\u001b[1m34/34\u001b[0m \u001b[32m━━━━━━━━━━━━━━━━━━━━\u001b[0m\u001b[37m\u001b[0m \u001b[1m1s\u001b[0m 25ms/step - accuracy: 0.9787 - loss: 0.0378 - val_accuracy: 0.5714 - val_loss: 2.1787\n",
            "Epoch 74/200\n",
            "\u001b[1m34/34\u001b[0m \u001b[32m━━━━━━━━━━━━━━━━━━━━\u001b[0m\u001b[37m\u001b[0m \u001b[1m1s\u001b[0m 25ms/step - accuracy: 0.9635 - loss: 0.0512 - val_accuracy: 0.6190 - val_loss: 2.2399\n",
            "Epoch 75/200\n",
            "\u001b[1m34/34\u001b[0m \u001b[32m━━━━━━━━━━━━━━━━━━━━\u001b[0m\u001b[37m\u001b[0m \u001b[1m1s\u001b[0m 27ms/step - accuracy: 0.9423 - loss: 0.0495 - val_accuracy: 0.5714 - val_loss: 2.1996\n",
            "Epoch 76/200\n",
            "\u001b[1m34/34\u001b[0m \u001b[32m━━━━━━━━━━━━━━━━━━━━\u001b[0m\u001b[37m\u001b[0m \u001b[1m1s\u001b[0m 29ms/step - accuracy: 0.9770 - loss: 0.0347 - val_accuracy: 0.5714 - val_loss: 2.0071\n",
            "Epoch 77/200\n",
            "\u001b[1m34/34\u001b[0m \u001b[32m━━━━━━━━━━━━━━━━━━━━\u001b[0m\u001b[37m\u001b[0m \u001b[1m1s\u001b[0m 35ms/step - accuracy: 0.9608 - loss: 0.0446 - val_accuracy: 0.5952 - val_loss: 1.8154\n",
            "Epoch 78/200\n",
            "\u001b[1m34/34\u001b[0m \u001b[32m━━━━━━━━━━━━━━━━━━━━\u001b[0m\u001b[37m\u001b[0m \u001b[1m1s\u001b[0m 26ms/step - accuracy: 0.9621 - loss: 0.0476 - val_accuracy: 0.5952 - val_loss: 1.9755\n",
            "Epoch 79/200\n",
            "\u001b[1m34/34\u001b[0m \u001b[32m━━━━━━━━━━━━━━━━━━━━\u001b[0m\u001b[37m\u001b[0m \u001b[1m1s\u001b[0m 26ms/step - accuracy: 0.9531 - loss: 0.0498 - val_accuracy: 0.5714 - val_loss: 1.8180\n",
            "Epoch 80/200\n",
            "\u001b[1m34/34\u001b[0m \u001b[32m━━━━━━━━━━━━━━━━━━━━\u001b[0m\u001b[37m\u001b[0m \u001b[1m1s\u001b[0m 24ms/step - accuracy: 0.9571 - loss: 0.0406 - val_accuracy: 0.5833 - val_loss: 2.2104\n",
            "Epoch 81/200\n",
            "\u001b[1m34/34\u001b[0m \u001b[32m━━━━━━━━━━━━━━━━━━━━\u001b[0m\u001b[37m\u001b[0m \u001b[1m1s\u001b[0m 25ms/step - accuracy: 0.9575 - loss: 0.0549 - val_accuracy: 0.6310 - val_loss: 2.0556\n",
            "Epoch 82/200\n",
            "\u001b[1m34/34\u001b[0m \u001b[32m━━━━━━━━━━━━━━━━━━━━\u001b[0m\u001b[37m\u001b[0m \u001b[1m1s\u001b[0m 26ms/step - accuracy: 0.9591 - loss: 0.0505 - val_accuracy: 0.5952 - val_loss: 2.0073\n",
            "Epoch 83/200\n",
            "\u001b[1m34/34\u001b[0m \u001b[32m━━━━━━━━━━━━━━━━━━━━\u001b[0m\u001b[37m\u001b[0m \u001b[1m1s\u001b[0m 24ms/step - accuracy: 0.9610 - loss: 0.0473 - val_accuracy: 0.5476 - val_loss: 2.0080\n",
            "Epoch 84/200\n",
            "\u001b[1m34/34\u001b[0m \u001b[32m━━━━━━━━━━━━━━━━━━━━\u001b[0m\u001b[37m\u001b[0m \u001b[1m1s\u001b[0m 25ms/step - accuracy: 0.9741 - loss: 0.0384 - val_accuracy: 0.5714 - val_loss: 2.0910\n",
            "Epoch 85/200\n",
            "\u001b[1m34/34\u001b[0m \u001b[32m━━━━━━━━━━━━━━━━━━━━\u001b[0m\u001b[37m\u001b[0m \u001b[1m1s\u001b[0m 25ms/step - accuracy: 0.9711 - loss: 0.0398 - val_accuracy: 0.6071 - val_loss: 2.4073\n",
            "Epoch 86/200\n",
            "\u001b[1m34/34\u001b[0m \u001b[32m━━━━━━━━━━━━━━━━━━━━\u001b[0m\u001b[37m\u001b[0m \u001b[1m1s\u001b[0m 27ms/step - accuracy: 0.9731 - loss: 0.0504 - val_accuracy: 0.5952 - val_loss: 1.5241\n",
            "Epoch 87/200\n",
            "\u001b[1m34/34\u001b[0m \u001b[32m━━━━━━━━━━━━━━━━━━━━\u001b[0m\u001b[37m\u001b[0m \u001b[1m1s\u001b[0m 25ms/step - accuracy: 0.9578 - loss: 0.0542 - val_accuracy: 0.5952 - val_loss: 1.9309\n",
            "Epoch 88/200\n",
            "\u001b[1m34/34\u001b[0m \u001b[32m━━━━━━━━━━━━━━━━━━━━\u001b[0m\u001b[37m\u001b[0m \u001b[1m1s\u001b[0m 28ms/step - accuracy: 0.9699 - loss: 0.0477 - val_accuracy: 0.6310 - val_loss: 2.3092\n",
            "Epoch 89/200\n",
            "\u001b[1m34/34\u001b[0m \u001b[32m━━━━━━━━━━━━━━━━━━━━\u001b[0m\u001b[37m\u001b[0m \u001b[1m1s\u001b[0m 29ms/step - accuracy: 0.9641 - loss: 0.0511 - val_accuracy: 0.5714 - val_loss: 1.7725\n",
            "Epoch 90/200\n",
            "\u001b[1m34/34\u001b[0m \u001b[32m━━━━━━━━━━━━━━━━━━━━\u001b[0m\u001b[37m\u001b[0m \u001b[1m1s\u001b[0m 33ms/step - accuracy: 0.9724 - loss: 0.0477 - val_accuracy: 0.5714 - val_loss: 2.0023\n",
            "Epoch 91/200\n",
            "\u001b[1m34/34\u001b[0m \u001b[32m━━━━━━━━━━━━━━━━━━━━\u001b[0m\u001b[37m\u001b[0m \u001b[1m1s\u001b[0m 25ms/step - accuracy: 0.9738 - loss: 0.0384 - val_accuracy: 0.5952 - val_loss: 1.8900\n",
            "Epoch 92/200\n",
            "\u001b[1m34/34\u001b[0m \u001b[32m━━━━━━━━━━━━━━━━━━━━\u001b[0m\u001b[37m\u001b[0m \u001b[1m1s\u001b[0m 25ms/step - accuracy: 0.9726 - loss: 0.0455 - val_accuracy: 0.5714 - val_loss: 1.9031\n",
            "Epoch 93/200\n",
            "\u001b[1m34/34\u001b[0m \u001b[32m━━━━━━━━━━━━━━━━━━━━\u001b[0m\u001b[37m\u001b[0m \u001b[1m1s\u001b[0m 26ms/step - accuracy: 0.9504 - loss: 0.0614 - val_accuracy: 0.5833 - val_loss: 1.9348\n",
            "Epoch 94/200\n",
            "\u001b[1m34/34\u001b[0m \u001b[32m━━━━━━━━━━━━━━━━━━━━\u001b[0m\u001b[37m\u001b[0m \u001b[1m1s\u001b[0m 27ms/step - accuracy: 0.9549 - loss: 0.0451 - val_accuracy: 0.5714 - val_loss: 1.9761\n",
            "Epoch 95/200\n",
            "\u001b[1m34/34\u001b[0m \u001b[32m━━━━━━━━━━━━━━━━━━━━\u001b[0m\u001b[37m\u001b[0m \u001b[1m1s\u001b[0m 25ms/step - accuracy: 0.9622 - loss: 0.0504 - val_accuracy: 0.5357 - val_loss: 2.1149\n",
            "Epoch 96/200\n",
            "\u001b[1m34/34\u001b[0m \u001b[32m━━━━━━━━━━━━━━━━━━━━\u001b[0m\u001b[37m\u001b[0m \u001b[1m1s\u001b[0m 25ms/step - accuracy: 0.9584 - loss: 0.0512 - val_accuracy: 0.5952 - val_loss: 1.9197\n",
            "Epoch 97/200\n",
            "\u001b[1m34/34\u001b[0m \u001b[32m━━━━━━━━━━━━━━━━━━━━\u001b[0m\u001b[37m\u001b[0m \u001b[1m1s\u001b[0m 27ms/step - accuracy: 0.9672 - loss: 0.0585 - val_accuracy: 0.5833 - val_loss: 1.8021\n",
            "Epoch 98/200\n",
            "\u001b[1m34/34\u001b[0m \u001b[32m━━━━━━━━━━━━━━━━━━━━\u001b[0m\u001b[37m\u001b[0m \u001b[1m1s\u001b[0m 24ms/step - accuracy: 0.9718 - loss: 0.0406 - val_accuracy: 0.5952 - val_loss: 1.9515\n",
            "Epoch 99/200\n",
            "\u001b[1m34/34\u001b[0m \u001b[32m━━━━━━━━━━━━━━━━━━━━\u001b[0m\u001b[37m\u001b[0m \u001b[1m1s\u001b[0m 26ms/step - accuracy: 0.9593 - loss: 0.0423 - val_accuracy: 0.4881 - val_loss: 2.6209\n",
            "Epoch 100/200\n",
            "\u001b[1m34/34\u001b[0m \u001b[32m━━━━━━━━━━━━━━━━━━━━\u001b[0m\u001b[37m\u001b[0m \u001b[1m1s\u001b[0m 29ms/step - accuracy: 0.9699 - loss: 0.0441 - val_accuracy: 0.5833 - val_loss: 1.9461\n",
            "Epoch 101/200\n",
            "\u001b[1m34/34\u001b[0m \u001b[32m━━━━━━━━━━━━━━━━━━━━\u001b[0m\u001b[37m\u001b[0m \u001b[1m1s\u001b[0m 29ms/step - accuracy: 0.9529 - loss: 0.0487 - val_accuracy: 0.6071 - val_loss: 2.0269\n",
            "Epoch 102/200\n",
            "\u001b[1m34/34\u001b[0m \u001b[32m━━━━━━━━━━━━━━━━━━━━\u001b[0m\u001b[37m\u001b[0m \u001b[1m1s\u001b[0m 30ms/step - accuracy: 0.9676 - loss: 0.0395 - val_accuracy: 0.6071 - val_loss: 2.4637\n",
            "Epoch 103/200\n",
            "\u001b[1m34/34\u001b[0m \u001b[32m━━━━━━━━━━━━━━━━━━━━\u001b[0m\u001b[37m\u001b[0m \u001b[1m1s\u001b[0m 25ms/step - accuracy: 0.9580 - loss: 0.1342 - val_accuracy: 0.5476 - val_loss: 1.4382\n",
            "Epoch 104/200\n",
            "\u001b[1m34/34\u001b[0m \u001b[32m━━━━━━━━━━━━━━━━━━━━\u001b[0m\u001b[37m\u001b[0m \u001b[1m1s\u001b[0m 25ms/step - accuracy: 0.9121 - loss: 0.3109 - val_accuracy: 0.5476 - val_loss: 3.0949\n",
            "Epoch 105/200\n",
            "\u001b[1m34/34\u001b[0m \u001b[32m━━━━━━━━━━━━━━━━━━━━\u001b[0m\u001b[37m\u001b[0m \u001b[1m1s\u001b[0m 26ms/step - accuracy: 0.9140 - loss: 0.2852 - val_accuracy: 0.6071 - val_loss: 3.1674\n",
            "Epoch 106/200\n",
            "\u001b[1m34/34\u001b[0m \u001b[32m━━━━━━━━━━━━━━━━━━━━\u001b[0m\u001b[37m\u001b[0m \u001b[1m1s\u001b[0m 26ms/step - accuracy: 0.9385 - loss: 0.1642 - val_accuracy: 0.5476 - val_loss: 4.0393\n",
            "Epoch 107/200\n",
            "\u001b[1m34/34\u001b[0m \u001b[32m━━━━━━━━━━━━━━━━━━━━\u001b[0m\u001b[37m\u001b[0m \u001b[1m1s\u001b[0m 24ms/step - accuracy: 0.9575 - loss: 0.1121 - val_accuracy: 0.5119 - val_loss: 3.4706\n",
            "Epoch 108/200\n",
            "\u001b[1m34/34\u001b[0m \u001b[32m━━━━━━━━━━━━━━━━━━━━\u001b[0m\u001b[37m\u001b[0m \u001b[1m1s\u001b[0m 24ms/step - accuracy: 0.9756 - loss: 0.0673 - val_accuracy: 0.5952 - val_loss: 2.5982\n",
            "Epoch 109/200\n",
            "\u001b[1m34/34\u001b[0m \u001b[32m━━━━━━━━━━━━━━━━━━━━\u001b[0m\u001b[37m\u001b[0m \u001b[1m1s\u001b[0m 25ms/step - accuracy: 0.9605 - loss: 0.0529 - val_accuracy: 0.6310 - val_loss: 3.1366\n",
            "Epoch 110/200\n",
            "\u001b[1m34/34\u001b[0m \u001b[32m━━━━━━━━━━━━━━━━━━━━\u001b[0m\u001b[37m\u001b[0m \u001b[1m1s\u001b[0m 28ms/step - accuracy: 0.9700 - loss: 0.0533 - val_accuracy: 0.6310 - val_loss: 3.1277\n",
            "Epoch 111/200\n",
            "\u001b[1m34/34\u001b[0m \u001b[32m━━━━━━━━━━━━━━━━━━━━\u001b[0m\u001b[37m\u001b[0m \u001b[1m1s\u001b[0m 30ms/step - accuracy: 0.9531 - loss: 0.0535 - val_accuracy: 0.6190 - val_loss: 2.8832\n",
            "Epoch 112/200\n",
            "\u001b[1m34/34\u001b[0m \u001b[32m━━━━━━━━━━━━━━━━━━━━\u001b[0m\u001b[37m\u001b[0m \u001b[1m1s\u001b[0m 30ms/step - accuracy: 0.9697 - loss: 0.0491 - val_accuracy: 0.6071 - val_loss: 2.9195\n",
            "Epoch 113/200\n",
            "\u001b[1m34/34\u001b[0m \u001b[32m━━━━━━━━━━━━━━━━━━━━\u001b[0m\u001b[37m\u001b[0m \u001b[1m1s\u001b[0m 27ms/step - accuracy: 0.9560 - loss: 0.0569 - val_accuracy: 0.6190 - val_loss: 2.5070\n",
            "Epoch 114/200\n",
            "\u001b[1m34/34\u001b[0m \u001b[32m━━━━━━━━━━━━━━━━━━━━\u001b[0m\u001b[37m\u001b[0m \u001b[1m1s\u001b[0m 25ms/step - accuracy: 0.9656 - loss: 0.0534 - val_accuracy: 0.6190 - val_loss: 2.7768\n",
            "Epoch 115/200\n",
            "\u001b[1m34/34\u001b[0m \u001b[32m━━━━━━━━━━━━━━━━━━━━\u001b[0m\u001b[37m\u001b[0m \u001b[1m1s\u001b[0m 27ms/step - accuracy: 0.9649 - loss: 0.0487 - val_accuracy: 0.6071 - val_loss: 3.0962\n",
            "Epoch 116/200\n",
            "\u001b[1m34/34\u001b[0m \u001b[32m━━━━━━━━━━━━━━━━━━━━\u001b[0m\u001b[37m\u001b[0m \u001b[1m1s\u001b[0m 25ms/step - accuracy: 0.9539 - loss: 0.0451 - val_accuracy: 0.6071 - val_loss: 2.9331\n",
            "Epoch 117/200\n",
            "\u001b[1m34/34\u001b[0m \u001b[32m━━━━━━━━━━━━━━━━━━━━\u001b[0m\u001b[37m\u001b[0m \u001b[1m1s\u001b[0m 25ms/step - accuracy: 0.9463 - loss: 0.0490 - val_accuracy: 0.6071 - val_loss: 3.1625\n",
            "Epoch 118/200\n",
            "\u001b[1m34/34\u001b[0m \u001b[32m━━━━━━━━━━━━━━━━━━━━\u001b[0m\u001b[37m\u001b[0m \u001b[1m1s\u001b[0m 26ms/step - accuracy: 0.9444 - loss: 0.0628 - val_accuracy: 0.5357 - val_loss: 3.0371\n",
            "Epoch 119/200\n",
            "\u001b[1m34/34\u001b[0m \u001b[32m━━━━━━━━━━━━━━━━━━━━\u001b[0m\u001b[37m\u001b[0m \u001b[1m1s\u001b[0m 25ms/step - accuracy: 0.9656 - loss: 0.0424 - val_accuracy: 0.5357 - val_loss: 3.0798\n",
            "Epoch 120/200\n",
            "\u001b[1m34/34\u001b[0m \u001b[32m━━━━━━━━━━━━━━━━━━━━\u001b[0m\u001b[37m\u001b[0m \u001b[1m1s\u001b[0m 27ms/step - accuracy: 0.9511 - loss: 0.0596 - val_accuracy: 0.5595 - val_loss: 2.9672\n",
            "Epoch 121/200\n",
            "\u001b[1m34/34\u001b[0m \u001b[32m━━━━━━━━━━━━━━━━━━━━\u001b[0m\u001b[37m\u001b[0m \u001b[1m1s\u001b[0m 27ms/step - accuracy: 0.9591 - loss: 0.0555 - val_accuracy: 0.5833 - val_loss: 2.6905\n",
            "Epoch 122/200\n",
            "\u001b[1m34/34\u001b[0m \u001b[32m━━━━━━━━━━━━━━━━━━━━\u001b[0m\u001b[37m\u001b[0m \u001b[1m1s\u001b[0m 27ms/step - accuracy: 0.9702 - loss: 0.0457 - val_accuracy: 0.6071 - val_loss: 2.6808\n",
            "Epoch 123/200\n",
            "\u001b[1m34/34\u001b[0m \u001b[32m━━━━━━━━━━━━━━━━━━━━\u001b[0m\u001b[37m\u001b[0m \u001b[1m1s\u001b[0m 29ms/step - accuracy: 0.9541 - loss: 0.0621 - val_accuracy: 0.5833 - val_loss: 2.5592\n",
            "Epoch 124/200\n",
            "\u001b[1m34/34\u001b[0m \u001b[32m━━━━━━━━━━━━━━━━━━━━\u001b[0m\u001b[37m\u001b[0m \u001b[1m1s\u001b[0m 30ms/step - accuracy: 0.9436 - loss: 0.0525 - val_accuracy: 0.5952 - val_loss: 2.8141\n",
            "Epoch 125/200\n",
            "\u001b[1m34/34\u001b[0m \u001b[32m━━━━━━━━━━━━━━━━━━━━\u001b[0m\u001b[37m\u001b[0m \u001b[1m1s\u001b[0m 27ms/step - accuracy: 0.9539 - loss: 0.0532 - val_accuracy: 0.5952 - val_loss: 2.7166\n",
            "Epoch 126/200\n",
            "\u001b[1m34/34\u001b[0m \u001b[32m━━━━━━━━━━━━━━━━━━━━\u001b[0m\u001b[37m\u001b[0m \u001b[1m1s\u001b[0m 26ms/step - accuracy: 0.9669 - loss: 0.0537 - val_accuracy: 0.5833 - val_loss: 2.7427\n",
            "Epoch 127/200\n",
            "\u001b[1m34/34\u001b[0m \u001b[32m━━━━━━━━━━━━━━━━━━━━\u001b[0m\u001b[37m\u001b[0m \u001b[1m1s\u001b[0m 25ms/step - accuracy: 0.9699 - loss: 0.0412 - val_accuracy: 0.5833 - val_loss: 2.5371\n",
            "Epoch 128/200\n",
            "\u001b[1m34/34\u001b[0m \u001b[32m━━━━━━━━━━━━━━━━━━━━\u001b[0m\u001b[37m\u001b[0m \u001b[1m1s\u001b[0m 26ms/step - accuracy: 0.9716 - loss: 0.0480 - val_accuracy: 0.6071 - val_loss: 2.6590\n",
            "Epoch 129/200\n",
            "\u001b[1m34/34\u001b[0m \u001b[32m━━━━━━━━━━━━━━━━━━━━\u001b[0m\u001b[37m\u001b[0m \u001b[1m1s\u001b[0m 25ms/step - accuracy: 0.9536 - loss: 0.0458 - val_accuracy: 0.6071 - val_loss: 2.5545\n",
            "Epoch 130/200\n",
            "\u001b[1m34/34\u001b[0m \u001b[32m━━━━━━━━━━━━━━━━━━━━\u001b[0m\u001b[37m\u001b[0m \u001b[1m1s\u001b[0m 27ms/step - accuracy: 0.9673 - loss: 0.0399 - val_accuracy: 0.6071 - val_loss: 2.7289\n",
            "Epoch 131/200\n",
            "\u001b[1m34/34\u001b[0m \u001b[32m━━━━━━━━━━━━━━━━━━━━\u001b[0m\u001b[37m\u001b[0m \u001b[1m1s\u001b[0m 26ms/step - accuracy: 0.9542 - loss: 0.0591 - val_accuracy: 0.6071 - val_loss: 2.5500\n",
            "Epoch 132/200\n",
            "\u001b[1m34/34\u001b[0m \u001b[32m━━━━━━━━━━━━━━━━━━━━\u001b[0m\u001b[37m\u001b[0m \u001b[1m1s\u001b[0m 25ms/step - accuracy: 0.9650 - loss: 0.0506 - val_accuracy: 0.6071 - val_loss: 2.8721\n",
            "Epoch 133/200\n",
            "\u001b[1m34/34\u001b[0m \u001b[32m━━━━━━━━━━━━━━━━━━━━\u001b[0m\u001b[37m\u001b[0m \u001b[1m1s\u001b[0m 25ms/step - accuracy: 0.9627 - loss: 0.0421 - val_accuracy: 0.6071 - val_loss: 2.8397\n",
            "Epoch 134/200\n",
            "\u001b[1m34/34\u001b[0m \u001b[32m━━━━━━━━━━━━━━━━━━━━\u001b[0m\u001b[37m\u001b[0m \u001b[1m1s\u001b[0m 27ms/step - accuracy: 0.9579 - loss: 0.0459 - val_accuracy: 0.5952 - val_loss: 2.6154\n",
            "Epoch 135/200\n",
            "\u001b[1m34/34\u001b[0m \u001b[32m━━━━━━━━━━━━━━━━━━━━\u001b[0m\u001b[37m\u001b[0m \u001b[1m1s\u001b[0m 28ms/step - accuracy: 0.9774 - loss: 0.0310 - val_accuracy: 0.5952 - val_loss: 2.8278\n",
            "Epoch 136/200\n",
            "\u001b[1m34/34\u001b[0m \u001b[32m━━━━━━━━━━━━━━━━━━━━\u001b[0m\u001b[37m\u001b[0m \u001b[1m1s\u001b[0m 29ms/step - accuracy: 0.9616 - loss: 0.0350 - val_accuracy: 0.5952 - val_loss: 2.8526\n",
            "Epoch 137/200\n",
            "\u001b[1m34/34\u001b[0m \u001b[32m━━━━━━━━━━━━━━━━━━━━\u001b[0m\u001b[37m\u001b[0m \u001b[1m1s\u001b[0m 30ms/step - accuracy: 0.9384 - loss: 0.0606 - val_accuracy: 0.5952 - val_loss: 2.5644\n",
            "Epoch 138/200\n",
            "\u001b[1m34/34\u001b[0m \u001b[32m━━━━━━━━━━━━━━━━━━━━\u001b[0m\u001b[37m\u001b[0m \u001b[1m1s\u001b[0m 25ms/step - accuracy: 0.9657 - loss: 0.0420 - val_accuracy: 0.5952 - val_loss: 2.5126\n",
            "Epoch 139/200\n",
            "\u001b[1m34/34\u001b[0m \u001b[32m━━━━━━━━━━━━━━━━━━━━\u001b[0m\u001b[37m\u001b[0m \u001b[1m1s\u001b[0m 24ms/step - accuracy: 0.9595 - loss: 0.0475 - val_accuracy: 0.6071 - val_loss: 2.8595\n",
            "Epoch 140/200\n",
            "\u001b[1m34/34\u001b[0m \u001b[32m━━━━━━━━━━━━━━━━━━━━\u001b[0m\u001b[37m\u001b[0m \u001b[1m1s\u001b[0m 25ms/step - accuracy: 0.9631 - loss: 0.0429 - val_accuracy: 0.5952 - val_loss: 2.8326\n",
            "Epoch 141/200\n",
            "\u001b[1m34/34\u001b[0m \u001b[32m━━━━━━━━━━━━━━━━━━━━\u001b[0m\u001b[37m\u001b[0m \u001b[1m1s\u001b[0m 24ms/step - accuracy: 0.9549 - loss: 0.0446 - val_accuracy: 0.5952 - val_loss: 2.6778\n",
            "Epoch 142/200\n",
            "\u001b[1m34/34\u001b[0m \u001b[32m━━━━━━━━━━━━━━━━━━━━\u001b[0m\u001b[37m\u001b[0m \u001b[1m1s\u001b[0m 25ms/step - accuracy: 0.9638 - loss: 0.0402 - val_accuracy: 0.5952 - val_loss: 2.9073\n",
            "Epoch 143/200\n",
            "\u001b[1m34/34\u001b[0m \u001b[32m━━━━━━━━━━━━━━━━━━━━\u001b[0m\u001b[37m\u001b[0m \u001b[1m1s\u001b[0m 27ms/step - accuracy: 0.9691 - loss: 0.0365 - val_accuracy: 0.5952 - val_loss: 2.9633\n",
            "Epoch 144/200\n",
            "\u001b[1m34/34\u001b[0m \u001b[32m━━━━━━━━━━━━━━━━━━━━\u001b[0m\u001b[37m\u001b[0m \u001b[1m1s\u001b[0m 25ms/step - accuracy: 0.9586 - loss: 0.0390 - val_accuracy: 0.5952 - val_loss: 3.0809\n",
            "Epoch 145/200\n",
            "\u001b[1m34/34\u001b[0m \u001b[32m━━━━━━━━━━━━━━━━━━━━\u001b[0m\u001b[37m\u001b[0m \u001b[1m1s\u001b[0m 24ms/step - accuracy: 0.9671 - loss: 0.0561 - val_accuracy: 0.6071 - val_loss: 2.1588\n",
            "Epoch 146/200\n",
            "\u001b[1m34/34\u001b[0m \u001b[32m━━━━━━━━━━━━━━━━━━━━\u001b[0m\u001b[37m\u001b[0m \u001b[1m1s\u001b[0m 24ms/step - accuracy: 0.9788 - loss: 0.0513 - val_accuracy: 0.5952 - val_loss: 2.5740\n",
            "Epoch 147/200\n",
            "\u001b[1m34/34\u001b[0m \u001b[32m━━━━━━━━━━━━━━━━━━━━\u001b[0m\u001b[37m\u001b[0m \u001b[1m1s\u001b[0m 28ms/step - accuracy: 0.9566 - loss: 0.0475 - val_accuracy: 0.5952 - val_loss: 2.6950\n",
            "Epoch 148/200\n",
            "\u001b[1m34/34\u001b[0m \u001b[32m━━━━━━━━━━━━━━━━━━━━\u001b[0m\u001b[37m\u001b[0m \u001b[1m1s\u001b[0m 34ms/step - accuracy: 0.9639 - loss: 0.0519 - val_accuracy: 0.5952 - val_loss: 2.6695\n",
            "Epoch 149/200\n",
            "\u001b[1m34/34\u001b[0m \u001b[32m━━━━━━━━━━━━━━━━━━━━\u001b[0m\u001b[37m\u001b[0m \u001b[1m1s\u001b[0m 28ms/step - accuracy: 0.9510 - loss: 0.0537 - val_accuracy: 0.5952 - val_loss: 2.6231\n",
            "Epoch 150/200\n",
            "\u001b[1m34/34\u001b[0m \u001b[32m━━━━━━━━━━━━━━━━━━━━\u001b[0m\u001b[37m\u001b[0m \u001b[1m1s\u001b[0m 24ms/step - accuracy: 0.9595 - loss: 0.0421 - val_accuracy: 0.5952 - val_loss: 2.7670\n",
            "Epoch 151/200\n",
            "\u001b[1m34/34\u001b[0m \u001b[32m━━━━━━━━━━━━━━━━━━━━\u001b[0m\u001b[37m\u001b[0m \u001b[1m1s\u001b[0m 26ms/step - accuracy: 0.9680 - loss: 0.0440 - val_accuracy: 0.5952 - val_loss: 2.7739\n",
            "Epoch 152/200\n",
            "\u001b[1m34/34\u001b[0m \u001b[32m━━━━━━━━━━━━━━━━━━━━\u001b[0m\u001b[37m\u001b[0m \u001b[1m1s\u001b[0m 25ms/step - accuracy: 0.9728 - loss: 0.0395 - val_accuracy: 0.5952 - val_loss: 2.6528\n",
            "Epoch 153/200\n",
            "\u001b[1m34/34\u001b[0m \u001b[32m━━━━━━━━━━━━━━━━━━━━\u001b[0m\u001b[37m\u001b[0m \u001b[1m1s\u001b[0m 25ms/step - accuracy: 0.9643 - loss: 0.0479 - val_accuracy: 0.5952 - val_loss: 2.7510\n",
            "Epoch 154/200\n",
            "\u001b[1m34/34\u001b[0m \u001b[32m━━━━━━━━━━━━━━━━━━━━\u001b[0m\u001b[37m\u001b[0m \u001b[1m1s\u001b[0m 25ms/step - accuracy: 0.9392 - loss: 0.0675 - val_accuracy: 0.5952 - val_loss: 2.2714\n",
            "Epoch 155/200\n",
            "\u001b[1m34/34\u001b[0m \u001b[32m━━━━━━━━━━━━━━━━━━━━\u001b[0m\u001b[37m\u001b[0m \u001b[1m1s\u001b[0m 26ms/step - accuracy: 0.9629 - loss: 0.0491 - val_accuracy: 0.5833 - val_loss: 2.6745\n",
            "Epoch 156/200\n",
            "\u001b[1m34/34\u001b[0m \u001b[32m━━━━━━━━━━━━━━━━━━━━\u001b[0m\u001b[37m\u001b[0m \u001b[1m1s\u001b[0m 26ms/step - accuracy: 0.9612 - loss: 0.0461 - val_accuracy: 0.5952 - val_loss: 2.8013\n",
            "Epoch 157/200\n",
            "\u001b[1m34/34\u001b[0m \u001b[32m━━━━━━━━━━━━━━━━━━━━\u001b[0m\u001b[37m\u001b[0m \u001b[1m1s\u001b[0m 27ms/step - accuracy: 0.9705 - loss: 0.0443 - val_accuracy: 0.5833 - val_loss: 2.7871\n",
            "Epoch 158/200\n",
            "\u001b[1m34/34\u001b[0m \u001b[32m━━━━━━━━━━━━━━━━━━━━\u001b[0m\u001b[37m\u001b[0m \u001b[1m1s\u001b[0m 27ms/step - accuracy: 0.9739 - loss: 0.0436 - val_accuracy: 0.5833 - val_loss: 2.8342\n",
            "Epoch 159/200\n",
            "\u001b[1m34/34\u001b[0m \u001b[32m━━━━━━━━━━━━━━━━━━━━\u001b[0m\u001b[37m\u001b[0m \u001b[1m1s\u001b[0m 29ms/step - accuracy: 0.9575 - loss: 0.0404 - val_accuracy: 0.5833 - val_loss: 2.9157\n",
            "Epoch 160/200\n",
            "\u001b[1m34/34\u001b[0m \u001b[32m━━━━━━━━━━━━━━━━━━━━\u001b[0m\u001b[37m\u001b[0m \u001b[1m1s\u001b[0m 28ms/step - accuracy: 0.9630 - loss: 0.0498 - val_accuracy: 0.5833 - val_loss: 2.5332\n",
            "Epoch 161/200\n",
            "\u001b[1m34/34\u001b[0m \u001b[32m━━━━━━━━━━━━━━━━━━━━\u001b[0m\u001b[37m\u001b[0m \u001b[1m1s\u001b[0m 25ms/step - accuracy: 0.9721 - loss: 0.0411 - val_accuracy: 0.5952 - val_loss: 2.8322\n",
            "Epoch 162/200\n",
            "\u001b[1m34/34\u001b[0m \u001b[32m━━━━━━━━━━━━━━━━━━━━\u001b[0m\u001b[37m\u001b[0m \u001b[1m1s\u001b[0m 25ms/step - accuracy: 0.9407 - loss: 0.0531 - val_accuracy: 0.5833 - val_loss: 2.8207\n",
            "Epoch 163/200\n",
            "\u001b[1m34/34\u001b[0m \u001b[32m━━━━━━━━━━━━━━━━━━━━\u001b[0m\u001b[37m\u001b[0m \u001b[1m1s\u001b[0m 27ms/step - accuracy: 0.9713 - loss: 0.0413 - val_accuracy: 0.5952 - val_loss: 2.6049\n",
            "Epoch 164/200\n",
            "\u001b[1m34/34\u001b[0m \u001b[32m━━━━━━━━━━━━━━━━━━━━\u001b[0m\u001b[37m\u001b[0m \u001b[1m1s\u001b[0m 25ms/step - accuracy: 0.9713 - loss: 0.0337 - val_accuracy: 0.5833 - val_loss: 2.5288\n",
            "Epoch 165/200\n",
            "\u001b[1m34/34\u001b[0m \u001b[32m━━━━━━━━━━━━━━━━━━━━\u001b[0m\u001b[37m\u001b[0m \u001b[1m1s\u001b[0m 26ms/step - accuracy: 0.9865 - loss: 0.0342 - val_accuracy: 0.5833 - val_loss: 2.8954\n",
            "Epoch 166/200\n",
            "\u001b[1m34/34\u001b[0m \u001b[32m━━━━━━━━━━━━━━━━━━━━\u001b[0m\u001b[37m\u001b[0m \u001b[1m1s\u001b[0m 27ms/step - accuracy: 0.9607 - loss: 0.0440 - val_accuracy: 0.5833 - val_loss: 2.7131\n",
            "Epoch 167/200\n",
            "\u001b[1m34/34\u001b[0m \u001b[32m━━━━━━━━━━━━━━━━━━━━\u001b[0m\u001b[37m\u001b[0m \u001b[1m1s\u001b[0m 26ms/step - accuracy: 0.9744 - loss: 0.0396 - val_accuracy: 0.5833 - val_loss: 2.8285\n",
            "Epoch 168/200\n",
            "\u001b[1m34/34\u001b[0m \u001b[32m━━━━━━━━━━━━━━━━━━━━\u001b[0m\u001b[37m\u001b[0m \u001b[1m1s\u001b[0m 26ms/step - accuracy: 0.9749 - loss: 0.0281 - val_accuracy: 0.5833 - val_loss: 2.7217\n",
            "Epoch 169/200\n",
            "\u001b[1m34/34\u001b[0m \u001b[32m━━━━━━━━━━━━━━━━━━━━\u001b[0m\u001b[37m\u001b[0m \u001b[1m1s\u001b[0m 26ms/step - accuracy: 0.9713 - loss: 0.0327 - val_accuracy: 0.5833 - val_loss: 2.7067\n",
            "Epoch 170/200\n",
            "\u001b[1m34/34\u001b[0m \u001b[32m━━━━━━━━━━━━━━━━━━━━\u001b[0m\u001b[37m\u001b[0m \u001b[1m1s\u001b[0m 27ms/step - accuracy: 0.9814 - loss: 0.0447 - val_accuracy: 0.5833 - val_loss: 2.8232\n",
            "Epoch 171/200\n",
            "\u001b[1m34/34\u001b[0m \u001b[32m━━━━━━━━━━━━━━━━━━━━\u001b[0m\u001b[37m\u001b[0m \u001b[1m1s\u001b[0m 33ms/step - accuracy: 0.9598 - loss: 0.0422 - val_accuracy: 0.5833 - val_loss: 2.8444\n",
            "Epoch 172/200\n",
            "\u001b[1m34/34\u001b[0m \u001b[32m━━━━━━━━━━━━━━━━━━━━\u001b[0m\u001b[37m\u001b[0m \u001b[1m1s\u001b[0m 33ms/step - accuracy: 0.9737 - loss: 0.0394 - val_accuracy: 0.5833 - val_loss: 2.9181\n",
            "Epoch 173/200\n",
            "\u001b[1m34/34\u001b[0m \u001b[32m━━━━━━━━━━━━━━━━━━━━\u001b[0m\u001b[37m\u001b[0m \u001b[1m1s\u001b[0m 26ms/step - accuracy: 0.9476 - loss: 0.0466 - val_accuracy: 0.5833 - val_loss: 2.9510\n",
            "Epoch 174/200\n",
            "\u001b[1m34/34\u001b[0m \u001b[32m━━━━━━━━━━━━━━━━━━━━\u001b[0m\u001b[37m\u001b[0m \u001b[1m1s\u001b[0m 26ms/step - accuracy: 0.9541 - loss: 0.0515 - val_accuracy: 0.5833 - val_loss: 3.0712\n",
            "Epoch 175/200\n",
            "\u001b[1m34/34\u001b[0m \u001b[32m━━━━━━━━━━━━━━━━━━━━\u001b[0m\u001b[37m\u001b[0m \u001b[1m1s\u001b[0m 27ms/step - accuracy: 0.9648 - loss: 0.0420 - val_accuracy: 0.5833 - val_loss: 3.4657\n",
            "Epoch 176/200\n",
            "\u001b[1m34/34\u001b[0m \u001b[32m━━━━━━━━━━━━━━━━━━━━\u001b[0m\u001b[37m\u001b[0m \u001b[1m1s\u001b[0m 27ms/step - accuracy: 0.9636 - loss: 0.0415 - val_accuracy: 0.5833 - val_loss: 2.8754\n",
            "Epoch 177/200\n",
            "\u001b[1m34/34\u001b[0m \u001b[32m━━━━━━━━━━━━━━━━━━━━\u001b[0m\u001b[37m\u001b[0m \u001b[1m1s\u001b[0m 25ms/step - accuracy: 0.9557 - loss: 0.0461 - val_accuracy: 0.5714 - val_loss: 2.3482\n",
            "Epoch 178/200\n",
            "\u001b[1m34/34\u001b[0m \u001b[32m━━━━━━━━━━━━━━━━━━━━\u001b[0m\u001b[37m\u001b[0m \u001b[1m1s\u001b[0m 25ms/step - accuracy: 0.9741 - loss: 0.0376 - val_accuracy: 0.5833 - val_loss: 3.1994\n",
            "Epoch 179/200\n",
            "\u001b[1m34/34\u001b[0m \u001b[32m━━━━━━━━━━━━━━━━━━━━\u001b[0m\u001b[37m\u001b[0m \u001b[1m1s\u001b[0m 27ms/step - accuracy: 0.9545 - loss: 0.0568 - val_accuracy: 0.5833 - val_loss: 3.0588\n",
            "Epoch 180/200\n",
            "\u001b[1m34/34\u001b[0m \u001b[32m━━━━━━━━━━━━━━━━━━━━\u001b[0m\u001b[37m\u001b[0m \u001b[1m1s\u001b[0m 25ms/step - accuracy: 0.9651 - loss: 0.0381 - val_accuracy: 0.5595 - val_loss: 2.9954\n",
            "Epoch 181/200\n",
            "\u001b[1m34/34\u001b[0m \u001b[32m━━━━━━━━━━━━━━━━━━━━\u001b[0m\u001b[37m\u001b[0m \u001b[1m1s\u001b[0m 26ms/step - accuracy: 0.9655 - loss: 0.0448 - val_accuracy: 0.5714 - val_loss: 3.3970\n",
            "Epoch 182/200\n",
            "\u001b[1m34/34\u001b[0m \u001b[32m━━━━━━━━━━━━━━━━━━━━\u001b[0m\u001b[37m\u001b[0m \u001b[1m1s\u001b[0m 29ms/step - accuracy: 0.9387 - loss: 0.0533 - val_accuracy: 0.5952 - val_loss: 3.4088\n",
            "Epoch 183/200\n",
            "\u001b[1m34/34\u001b[0m \u001b[32m━━━━━━━━━━━━━━━━━━━━\u001b[0m\u001b[37m\u001b[0m \u001b[1m1s\u001b[0m 29ms/step - accuracy: 0.9535 - loss: 0.0506 - val_accuracy: 0.5833 - val_loss: 2.7786\n",
            "Epoch 184/200\n",
            "\u001b[1m34/34\u001b[0m \u001b[32m━━━━━━━━━━━━━━━━━━━━\u001b[0m\u001b[37m\u001b[0m \u001b[1m1s\u001b[0m 29ms/step - accuracy: 0.9790 - loss: 0.0300 - val_accuracy: 0.5952 - val_loss: 2.8939\n",
            "Epoch 185/200\n",
            "\u001b[1m34/34\u001b[0m \u001b[32m━━━━━━━━━━━━━━━━━━━━\u001b[0m\u001b[37m\u001b[0m \u001b[1m1s\u001b[0m 27ms/step - accuracy: 0.9587 - loss: 0.0348 - val_accuracy: 0.5952 - val_loss: 2.9865\n",
            "Epoch 186/200\n",
            "\u001b[1m34/34\u001b[0m \u001b[32m━━━━━━━━━━━━━━━━━━━━\u001b[0m\u001b[37m\u001b[0m \u001b[1m1s\u001b[0m 25ms/step - accuracy: 0.9582 - loss: 0.0641 - val_accuracy: 0.5952 - val_loss: 3.0043\n",
            "Epoch 187/200\n",
            "\u001b[1m34/34\u001b[0m \u001b[32m━━━━━━━━━━━━━━━━━━━━\u001b[0m\u001b[37m\u001b[0m \u001b[1m1s\u001b[0m 28ms/step - accuracy: 0.9593 - loss: 0.0467 - val_accuracy: 0.5833 - val_loss: 3.0965\n",
            "Epoch 188/200\n",
            "\u001b[1m34/34\u001b[0m \u001b[32m━━━━━━━━━━━━━━━━━━━━\u001b[0m\u001b[37m\u001b[0m \u001b[1m1s\u001b[0m 26ms/step - accuracy: 0.9563 - loss: 0.0513 - val_accuracy: 0.5833 - val_loss: 2.3741\n",
            "Epoch 189/200\n",
            "\u001b[1m34/34\u001b[0m \u001b[32m━━━━━━━━━━━━━━━━━━━━\u001b[0m\u001b[37m\u001b[0m \u001b[1m1s\u001b[0m 27ms/step - accuracy: 0.9609 - loss: 0.0430 - val_accuracy: 0.5833 - val_loss: 2.9061\n",
            "Epoch 190/200\n",
            "\u001b[1m34/34\u001b[0m \u001b[32m━━━━━━━━━━━━━━━━━━━━\u001b[0m\u001b[37m\u001b[0m \u001b[1m1s\u001b[0m 25ms/step - accuracy: 0.9658 - loss: 0.0433 - val_accuracy: 0.5952 - val_loss: 3.1220\n",
            "Epoch 191/200\n",
            "\u001b[1m34/34\u001b[0m \u001b[32m━━━━━━━━━━━━━━━━━━━━\u001b[0m\u001b[37m\u001b[0m \u001b[1m1s\u001b[0m 27ms/step - accuracy: 0.9622 - loss: 0.0390 - val_accuracy: 0.5952 - val_loss: 3.1454\n",
            "Epoch 192/200\n",
            "\u001b[1m34/34\u001b[0m \u001b[32m━━━━━━━━━━━━━━━━━━━━\u001b[0m\u001b[37m\u001b[0m \u001b[1m1s\u001b[0m 27ms/step - accuracy: 0.9365 - loss: 0.0544 - val_accuracy: 0.5952 - val_loss: 3.0542\n",
            "Epoch 193/200\n",
            "\u001b[1m34/34\u001b[0m \u001b[32m━━━━━━━━━━━━━━━━━━━━\u001b[0m\u001b[37m\u001b[0m \u001b[1m1s\u001b[0m 24ms/step - accuracy: 0.9818 - loss: 0.0367 - val_accuracy: 0.5952 - val_loss: 3.3101\n",
            "Epoch 194/200\n",
            "\u001b[1m34/34\u001b[0m \u001b[32m━━━━━━━━━━━━━━━━━━━━\u001b[0m\u001b[37m\u001b[0m \u001b[1m2s\u001b[0m 34ms/step - accuracy: 0.9692 - loss: 0.0376 - val_accuracy: 0.5952 - val_loss: 3.1473\n",
            "Epoch 195/200\n",
            "\u001b[1m34/34\u001b[0m \u001b[32m━━━━━━━━━━━━━━━━━━━━\u001b[0m\u001b[37m\u001b[0m \u001b[1m1s\u001b[0m 30ms/step - accuracy: 0.9523 - loss: 0.0473 - val_accuracy: 0.6071 - val_loss: 3.2054\n",
            "Epoch 196/200\n",
            "\u001b[1m34/34\u001b[0m \u001b[32m━━━━━━━━━━━━━━━━━━━━\u001b[0m\u001b[37m\u001b[0m \u001b[1m1s\u001b[0m 29ms/step - accuracy: 0.9595 - loss: 0.0418 - val_accuracy: 0.5952 - val_loss: 2.9234\n",
            "Epoch 197/200\n",
            "\u001b[1m34/34\u001b[0m \u001b[32m━━━━━━━━━━━━━━━━━━━━\u001b[0m\u001b[37m\u001b[0m \u001b[1m1s\u001b[0m 25ms/step - accuracy: 0.9530 - loss: 0.0516 - val_accuracy: 0.6071 - val_loss: 2.9075\n",
            "Epoch 198/200\n",
            "\u001b[1m34/34\u001b[0m \u001b[32m━━━━━━━━━━━━━━━━━━━━\u001b[0m\u001b[37m\u001b[0m \u001b[1m1s\u001b[0m 25ms/step - accuracy: 0.9767 - loss: 0.0339 - val_accuracy: 0.5952 - val_loss: 3.1332\n",
            "Epoch 199/200\n",
            "\u001b[1m34/34\u001b[0m \u001b[32m━━━━━━━━━━━━━━━━━━━━\u001b[0m\u001b[37m\u001b[0m \u001b[1m1s\u001b[0m 27ms/step - accuracy: 0.9486 - loss: 0.0580 - val_accuracy: 0.5833 - val_loss: 3.0246\n",
            "Epoch 200/200\n",
            "\u001b[1m34/34\u001b[0m \u001b[32m━━━━━━━━━━━━━━━━━━━━\u001b[0m\u001b[37m\u001b[0m \u001b[1m1s\u001b[0m 25ms/step - accuracy: 0.9596 - loss: 0.0424 - val_accuracy: 0.5833 - val_loss: 3.1474\n"
          ]
        }
      ]
    },
    {
      "cell_type": "code",
      "source": [
        "y_prediction = model.predict(valid_dset)"
      ],
      "metadata": {
        "colab": {
          "base_uri": "https://localhost:8080/"
        },
        "id": "1MUzb5YDHlbA",
        "outputId": "e87fcbc9-eed1-488d-a796-05fe542f5063"
      },
      "execution_count": null,
      "outputs": [
        {
          "output_type": "stream",
          "name": "stdout",
          "text": [
            "\u001b[1m9/9\u001b[0m \u001b[32m━━━━━━━━━━━━━━━━━━━━\u001b[0m\u001b[37m\u001b[0m \u001b[1m1s\u001b[0m 32ms/step\n"
          ]
        }
      ]
    },
    {
      "cell_type": "code",
      "source": [
        "import sklearn\n",
        "true_categories = tf.concat([y for x, y in valid_dset], axis=0)\n",
        "predicted_categories = tf.argmax(y_prediction, axis=1)\n",
        "report = sklearn.metrics.classification_report(true_categories,predicted_categories)\n",
        "print(report)"
      ],
      "metadata": {
        "colab": {
          "base_uri": "https://localhost:8080/"
        },
        "id": "VIpk8veyGAXJ",
        "outputId": "2598c512-6bd0-4afb-b52e-19c0fc9cb319"
      },
      "execution_count": null,
      "outputs": [
        {
          "output_type": "stream",
          "name": "stdout",
          "text": [
            "              precision    recall  f1-score   support\n",
            "\n",
            "           0       0.00      0.00      0.00        10\n",
            "           1       0.67      0.93      0.78        55\n",
            "           2       0.00      0.00      0.00        19\n",
            "\n",
            "    accuracy                           0.61        84\n",
            "   macro avg       0.22      0.31      0.26        84\n",
            "weighted avg       0.44      0.61      0.51        84\n",
            "\n"
          ]
        }
      ]
    },
    {
      "cell_type": "code",
      "source": [
        "import matplotlib.pyplot as plt\n",
        "from sklearn.metrics import confusion_matrix\n",
        "y_prediction = model.predict(valid_dset)\n",
        "confusion_matrix = confusion_matrix(true_categories, predicted_categories)\n",
        "predicted_categories = tf.argmax(y_prediction, axis=1)\n",
        "Display = sklearn.metrics.ConfusionMatrixDisplay(confusion_matrix= confusion_matrix,display_labels=train_dest.class_names)\n",
        "Display.plot()\n",
        "plt.show()"
      ],
      "metadata": {
        "colab": {
          "base_uri": "https://localhost:8080/",
          "height": 466
        },
        "id": "dDokjjDRF0Yg",
        "outputId": "06dea2fb-f2ff-414a-be97-95a02a309c8c"
      },
      "execution_count": null,
      "outputs": [
        {
          "output_type": "stream",
          "name": "stdout",
          "text": [
            "\u001b[1m9/9\u001b[0m \u001b[32m━━━━━━━━━━━━━━━━━━━━\u001b[0m\u001b[37m\u001b[0m \u001b[1m0s\u001b[0m 13ms/step\n"
          ]
        },
        {
          "output_type": "display_data",
          "data": {
            "text/plain": [
              "<Figure size 640x480 with 2 Axes>"
            ],
            "image/png": "[encoded data removed]"
          },
          "metadata": {}
        }
      ]
    },
    {
      "cell_type": "code",
      "source": [],
      "metadata": {
        "id": "qMegqi4LF6cd"
      },
      "execution_count": null,
      "outputs": []
    }
  ],
  "metadata": {
    "kernelspec": {
      "display_name": "Python 3",
      "name": "python3"
    },
    "language_info": {
      "codemirror_mode": {
        "name": "ipython",
        "version": 3
      },
      "file_extension": ".py",
      "mimetype": "text/x-python",
      "name": "python",
      "nbconvert_exporter": "python",
      "pygments_lexer": "ipython3",
      "version": "3.13.0"
    },
    "colab": {
      "provenance": [],
      "gpuType": "T4"
    },
    "accelerator": "GPU"
  },
  "nbformat": 4,
  "nbformat_minor": 0
}